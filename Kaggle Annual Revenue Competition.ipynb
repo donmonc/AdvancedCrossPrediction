{
 "cells": [
  {
   "cell_type": "markdown",
   "metadata": {},
   "source": [
    "## Annual Revenue For A Retail Shop\n",
    "\n",
    "**AXA Mansard 3rd place solution on Advance-cross-prediction**\n",
    "\n",
    "**Problem:** Predict the Annual Revenue a customer will generate in a year for the supermarket."
   ]
  },
  {
   "cell_type": "code",
   "execution_count": 1,
   "metadata": {},
   "outputs": [],
   "source": [
    "import os\n",
    "import opendatasets as od\n",
    "import pandas as pd\n",
    "import numpy as np\n",
    "import matplotlib.pyplot as plt\n",
    "import matplotlib\n",
    "import seaborn as sns"
   ]
  },
  {
   "cell_type": "code",
   "execution_count": 2,
   "metadata": {},
   "outputs": [],
   "source": [
    "dataset = 'https://www.kaggle.com/c/advance-cross-prediction/data'"
   ]
  },
  {
   "cell_type": "code",
   "execution_count": 3,
   "metadata": {},
   "outputs": [
    {
     "name": "stdout",
     "output_type": "stream",
     "text": [
      "Skipping, found downloaded files in \".\\advance-cross-prediction\" (use force=True to force download)\n"
     ]
    }
   ],
   "source": [
    "od.download(dataset)"
   ]
  },
  {
   "cell_type": "code",
   "execution_count": 4,
   "metadata": {},
   "outputs": [
    {
     "data": {
      "text/plain": [
       "['samplesubData.csv', 'Test.csv', 'Train.csv']"
      ]
     },
     "execution_count": 4,
     "metadata": {},
     "output_type": "execute_result"
    }
   ],
   "source": [
    "os.listdir('./advance-cross-prediction')"
   ]
  },
  {
   "cell_type": "code",
   "execution_count": 5,
   "metadata": {},
   "outputs": [],
   "source": [
    "train = pd.read_csv('./advance-cross-prediction/Train.csv')\n",
    "test = pd.read_csv('./advance-cross-prediction/Test.csv')\n",
    "sample = pd.read_csv('./advance-cross-prediction/samplesubData.csv')"
   ]
  },
  {
   "cell_type": "code",
   "execution_count": 6,
   "metadata": {},
   "outputs": [],
   "source": [
    "pd.set_option('display.max_columns',None)\n",
    "sns.set_style('darkgrid')"
   ]
  },
  {
   "cell_type": "markdown",
   "metadata": {},
   "source": [
    "### Exploratory Data Analysis & Visualization"
   ]
  },
  {
   "cell_type": "code",
   "execution_count": 7,
   "metadata": {},
   "outputs": [
    {
     "name": "stdout",
     "output_type": "stream",
     "text": [
      "<class 'pandas.core.frame.DataFrame'>\n",
      "RangeIndex: 304887 entries, 0 to 304886\n",
      "Data columns (total 11 columns):\n",
      " #   Column                Non-Null Count   Dtype  \n",
      "---  ------                --------------   -----  \n",
      " 0   id                    304887 non-null  int64  \n",
      " 1   Gender                304887 non-null  object \n",
      " 2   Age                   304887 non-null  int64  \n",
      " 3   Driving_License       304887 non-null  int64  \n",
      " 4   Region_Code           304887 non-null  float64\n",
      " 5   Previously_Insured    304887 non-null  int64  \n",
      " 6   Vehicle_Age           304887 non-null  object \n",
      " 7   Vehicle_Damage        304887 non-null  object \n",
      " 8   Policy_Sales_Channel  304887 non-null  float64\n",
      " 9   Vintage               304887 non-null  int64  \n",
      " 10  Annual_Premium        304887 non-null  float64\n",
      "dtypes: float64(3), int64(5), object(3)\n",
      "memory usage: 25.6+ MB\n"
     ]
    }
   ],
   "source": [
    "train.info()"
   ]
  },
  {
   "cell_type": "code",
   "execution_count": 8,
   "metadata": {},
   "outputs": [
    {
     "data": {
      "text/html": [
       "<div>\n",
       "<style scoped>\n",
       "    .dataframe tbody tr th:only-of-type {\n",
       "        vertical-align: middle;\n",
       "    }\n",
       "\n",
       "    .dataframe tbody tr th {\n",
       "        vertical-align: top;\n",
       "    }\n",
       "\n",
       "    .dataframe thead th {\n",
       "        text-align: right;\n",
       "    }\n",
       "</style>\n",
       "<table border=\"1\" class=\"dataframe\">\n",
       "  <thead>\n",
       "    <tr style=\"text-align: right;\">\n",
       "      <th></th>\n",
       "      <th>id</th>\n",
       "      <th>Gender</th>\n",
       "      <th>Age</th>\n",
       "      <th>Driving_License</th>\n",
       "      <th>Region_Code</th>\n",
       "      <th>Previously_Insured</th>\n",
       "      <th>Vehicle_Age</th>\n",
       "      <th>Vehicle_Damage</th>\n",
       "      <th>Policy_Sales_Channel</th>\n",
       "      <th>Vintage</th>\n",
       "      <th>Annual_Premium</th>\n",
       "    </tr>\n",
       "  </thead>\n",
       "  <tbody>\n",
       "    <tr>\n",
       "      <th>0</th>\n",
       "      <td>274711</td>\n",
       "      <td>Male</td>\n",
       "      <td>22</td>\n",
       "      <td>1</td>\n",
       "      <td>40.0</td>\n",
       "      <td>0</td>\n",
       "      <td>&lt; 1 Year</td>\n",
       "      <td>Yes</td>\n",
       "      <td>152.0</td>\n",
       "      <td>203</td>\n",
       "      <td>25455.0</td>\n",
       "    </tr>\n",
       "    <tr>\n",
       "      <th>1</th>\n",
       "      <td>216540</td>\n",
       "      <td>Female</td>\n",
       "      <td>26</td>\n",
       "      <td>1</td>\n",
       "      <td>8.0</td>\n",
       "      <td>1</td>\n",
       "      <td>&lt; 1 Year</td>\n",
       "      <td>No</td>\n",
       "      <td>26.0</td>\n",
       "      <td>45</td>\n",
       "      <td>38393.0</td>\n",
       "    </tr>\n",
       "  </tbody>\n",
       "</table>\n",
       "</div>"
      ],
      "text/plain": [
       "       id  Gender  Age  Driving_License  Region_Code  Previously_Insured  \\\n",
       "0  274711    Male   22                1         40.0                   0   \n",
       "1  216540  Female   26                1          8.0                   1   \n",
       "\n",
       "  Vehicle_Age Vehicle_Damage  Policy_Sales_Channel  Vintage  Annual_Premium  \n",
       "0    < 1 Year            Yes                 152.0      203         25455.0  \n",
       "1    < 1 Year             No                  26.0       45         38393.0  "
      ]
     },
     "execution_count": 8,
     "metadata": {},
     "output_type": "execute_result"
    }
   ],
   "source": [
    "train.head(2)"
   ]
  },
  {
   "cell_type": "code",
   "execution_count": 9,
   "metadata": {},
   "outputs": [
    {
     "name": "stdout",
     "output_type": "stream",
     "text": [
      "<class 'pandas.core.frame.DataFrame'>\n",
      "RangeIndex: 76222 entries, 0 to 76221\n",
      "Data columns (total 10 columns):\n",
      " #   Column                Non-Null Count  Dtype  \n",
      "---  ------                --------------  -----  \n",
      " 0   id                    76222 non-null  int64  \n",
      " 1   Gender                76222 non-null  object \n",
      " 2   Age                   76222 non-null  int64  \n",
      " 3   Driving_License       76222 non-null  int64  \n",
      " 4   Region_Code           76222 non-null  float64\n",
      " 5   Previously_Insured    76222 non-null  int64  \n",
      " 6   Vehicle_Age           76222 non-null  object \n",
      " 7   Vehicle_Damage        76222 non-null  object \n",
      " 8   Policy_Sales_Channel  76222 non-null  float64\n",
      " 9   Vintage               76222 non-null  int64  \n",
      "dtypes: float64(2), int64(5), object(3)\n",
      "memory usage: 5.8+ MB\n"
     ]
    }
   ],
   "source": [
    "test.info()"
   ]
  },
  {
   "cell_type": "code",
   "execution_count": 10,
   "metadata": {},
   "outputs": [
    {
     "data": {
      "text/html": [
       "<div>\n",
       "<style scoped>\n",
       "    .dataframe tbody tr th:only-of-type {\n",
       "        vertical-align: middle;\n",
       "    }\n",
       "\n",
       "    .dataframe tbody tr th {\n",
       "        vertical-align: top;\n",
       "    }\n",
       "\n",
       "    .dataframe thead th {\n",
       "        text-align: right;\n",
       "    }\n",
       "</style>\n",
       "<table border=\"1\" class=\"dataframe\">\n",
       "  <thead>\n",
       "    <tr style=\"text-align: right;\">\n",
       "      <th></th>\n",
       "      <th>id</th>\n",
       "      <th>Gender</th>\n",
       "      <th>Age</th>\n",
       "      <th>Driving_License</th>\n",
       "      <th>Region_Code</th>\n",
       "      <th>Previously_Insured</th>\n",
       "      <th>Vehicle_Age</th>\n",
       "      <th>Vehicle_Damage</th>\n",
       "      <th>Policy_Sales_Channel</th>\n",
       "      <th>Vintage</th>\n",
       "    </tr>\n",
       "  </thead>\n",
       "  <tbody>\n",
       "    <tr>\n",
       "      <th>0</th>\n",
       "      <td>16222</td>\n",
       "      <td>Male</td>\n",
       "      <td>54</td>\n",
       "      <td>1</td>\n",
       "      <td>28.0</td>\n",
       "      <td>0</td>\n",
       "      <td>&gt; 2 Years</td>\n",
       "      <td>Yes</td>\n",
       "      <td>26.0</td>\n",
       "      <td>53</td>\n",
       "    </tr>\n",
       "    <tr>\n",
       "      <th>1</th>\n",
       "      <td>342481</td>\n",
       "      <td>Female</td>\n",
       "      <td>26</td>\n",
       "      <td>1</td>\n",
       "      <td>3.0</td>\n",
       "      <td>0</td>\n",
       "      <td>1-2 Year</td>\n",
       "      <td>Yes</td>\n",
       "      <td>156.0</td>\n",
       "      <td>280</td>\n",
       "    </tr>\n",
       "  </tbody>\n",
       "</table>\n",
       "</div>"
      ],
      "text/plain": [
       "       id  Gender  Age  Driving_License  Region_Code  Previously_Insured  \\\n",
       "0   16222    Male   54                1         28.0                   0   \n",
       "1  342481  Female   26                1          3.0                   0   \n",
       "\n",
       "  Vehicle_Age Vehicle_Damage  Policy_Sales_Channel  Vintage  \n",
       "0   > 2 Years            Yes                  26.0       53  \n",
       "1    1-2 Year            Yes                 156.0      280  "
      ]
     },
     "execution_count": 10,
     "metadata": {},
     "output_type": "execute_result"
    }
   ],
   "source": [
    "test.head(2)"
   ]
  },
  {
   "cell_type": "markdown",
   "metadata": {},
   "source": [
    "2. __Descriptive Stats Of Each Dataset__"
   ]
  },
  {
   "cell_type": "code",
   "execution_count": 11,
   "metadata": {},
   "outputs": [
    {
     "data": {
      "text/html": [
       "<div>\n",
       "<style scoped>\n",
       "    .dataframe tbody tr th:only-of-type {\n",
       "        vertical-align: middle;\n",
       "    }\n",
       "\n",
       "    .dataframe tbody tr th {\n",
       "        vertical-align: top;\n",
       "    }\n",
       "\n",
       "    .dataframe thead th {\n",
       "        text-align: right;\n",
       "    }\n",
       "</style>\n",
       "<table border=\"1\" class=\"dataframe\">\n",
       "  <thead>\n",
       "    <tr style=\"text-align: right;\">\n",
       "      <th></th>\n",
       "      <th>id</th>\n",
       "      <th>Age</th>\n",
       "      <th>Driving_License</th>\n",
       "      <th>Region_Code</th>\n",
       "      <th>Previously_Insured</th>\n",
       "      <th>Policy_Sales_Channel</th>\n",
       "      <th>Vintage</th>\n",
       "      <th>Annual_Premium</th>\n",
       "    </tr>\n",
       "  </thead>\n",
       "  <tbody>\n",
       "    <tr>\n",
       "      <th>count</th>\n",
       "      <td>304887.000000</td>\n",
       "      <td>304887.000000</td>\n",
       "      <td>304887.000000</td>\n",
       "      <td>304887.000000</td>\n",
       "      <td>304887.000000</td>\n",
       "      <td>304887.000000</td>\n",
       "      <td>304887.000000</td>\n",
       "      <td>304887.000000</td>\n",
       "    </tr>\n",
       "    <tr>\n",
       "      <th>mean</th>\n",
       "      <td>190738.657112</td>\n",
       "      <td>38.826897</td>\n",
       "      <td>0.997855</td>\n",
       "      <td>26.396239</td>\n",
       "      <td>0.458127</td>\n",
       "      <td>112.053859</td>\n",
       "      <td>154.392214</td>\n",
       "      <td>30591.308311</td>\n",
       "    </tr>\n",
       "    <tr>\n",
       "      <th>std</th>\n",
       "      <td>110004.367239</td>\n",
       "      <td>15.515299</td>\n",
       "      <td>0.046265</td>\n",
       "      <td>13.228749</td>\n",
       "      <td>0.498244</td>\n",
       "      <td>54.189288</td>\n",
       "      <td>83.670312</td>\n",
       "      <td>17239.285689</td>\n",
       "    </tr>\n",
       "    <tr>\n",
       "      <th>min</th>\n",
       "      <td>1.000000</td>\n",
       "      <td>20.000000</td>\n",
       "      <td>0.000000</td>\n",
       "      <td>0.000000</td>\n",
       "      <td>0.000000</td>\n",
       "      <td>1.000000</td>\n",
       "      <td>10.000000</td>\n",
       "      <td>2630.000000</td>\n",
       "    </tr>\n",
       "    <tr>\n",
       "      <th>25%</th>\n",
       "      <td>95504.500000</td>\n",
       "      <td>25.000000</td>\n",
       "      <td>1.000000</td>\n",
       "      <td>15.000000</td>\n",
       "      <td>0.000000</td>\n",
       "      <td>29.000000</td>\n",
       "      <td>82.000000</td>\n",
       "      <td>24403.000000</td>\n",
       "    </tr>\n",
       "    <tr>\n",
       "      <th>50%</th>\n",
       "      <td>190886.000000</td>\n",
       "      <td>36.000000</td>\n",
       "      <td>1.000000</td>\n",
       "      <td>28.000000</td>\n",
       "      <td>0.000000</td>\n",
       "      <td>134.000000</td>\n",
       "      <td>154.000000</td>\n",
       "      <td>31697.000000</td>\n",
       "    </tr>\n",
       "    <tr>\n",
       "      <th>75%</th>\n",
       "      <td>285863.500000</td>\n",
       "      <td>49.000000</td>\n",
       "      <td>1.000000</td>\n",
       "      <td>35.000000</td>\n",
       "      <td>1.000000</td>\n",
       "      <td>152.000000</td>\n",
       "      <td>227.000000</td>\n",
       "      <td>39443.000000</td>\n",
       "    </tr>\n",
       "    <tr>\n",
       "      <th>max</th>\n",
       "      <td>381109.000000</td>\n",
       "      <td>85.000000</td>\n",
       "      <td>1.000000</td>\n",
       "      <td>52.000000</td>\n",
       "      <td>1.000000</td>\n",
       "      <td>163.000000</td>\n",
       "      <td>299.000000</td>\n",
       "      <td>540165.000000</td>\n",
       "    </tr>\n",
       "  </tbody>\n",
       "</table>\n",
       "</div>"
      ],
      "text/plain": [
       "                  id            Age  Driving_License    Region_Code  \\\n",
       "count  304887.000000  304887.000000    304887.000000  304887.000000   \n",
       "mean   190738.657112      38.826897         0.997855      26.396239   \n",
       "std    110004.367239      15.515299         0.046265      13.228749   \n",
       "min         1.000000      20.000000         0.000000       0.000000   \n",
       "25%     95504.500000      25.000000         1.000000      15.000000   \n",
       "50%    190886.000000      36.000000         1.000000      28.000000   \n",
       "75%    285863.500000      49.000000         1.000000      35.000000   \n",
       "max    381109.000000      85.000000         1.000000      52.000000   \n",
       "\n",
       "       Previously_Insured  Policy_Sales_Channel        Vintage  Annual_Premium  \n",
       "count       304887.000000         304887.000000  304887.000000   304887.000000  \n",
       "mean             0.458127            112.053859     154.392214    30591.308311  \n",
       "std              0.498244             54.189288      83.670312    17239.285689  \n",
       "min              0.000000              1.000000      10.000000     2630.000000  \n",
       "25%              0.000000             29.000000      82.000000    24403.000000  \n",
       "50%              0.000000            134.000000     154.000000    31697.000000  \n",
       "75%              1.000000            152.000000     227.000000    39443.000000  \n",
       "max              1.000000            163.000000     299.000000   540165.000000  "
      ]
     },
     "execution_count": 11,
     "metadata": {},
     "output_type": "execute_result"
    }
   ],
   "source": [
    "train.describe()"
   ]
  },
  {
   "cell_type": "code",
   "execution_count": 12,
   "metadata": {},
   "outputs": [
    {
     "data": {
      "text/html": [
       "<div>\n",
       "<style scoped>\n",
       "    .dataframe tbody tr th:only-of-type {\n",
       "        vertical-align: middle;\n",
       "    }\n",
       "\n",
       "    .dataframe tbody tr th {\n",
       "        vertical-align: top;\n",
       "    }\n",
       "\n",
       "    .dataframe thead th {\n",
       "        text-align: right;\n",
       "    }\n",
       "</style>\n",
       "<table border=\"1\" class=\"dataframe\">\n",
       "  <thead>\n",
       "    <tr style=\"text-align: right;\">\n",
       "      <th></th>\n",
       "      <th>Gender</th>\n",
       "      <th>Vehicle_Age</th>\n",
       "      <th>Vehicle_Damage</th>\n",
       "    </tr>\n",
       "  </thead>\n",
       "  <tbody>\n",
       "    <tr>\n",
       "      <th>count</th>\n",
       "      <td>304887</td>\n",
       "      <td>304887</td>\n",
       "      <td>304887</td>\n",
       "    </tr>\n",
       "    <tr>\n",
       "      <th>unique</th>\n",
       "      <td>2</td>\n",
       "      <td>3</td>\n",
       "      <td>2</td>\n",
       "    </tr>\n",
       "    <tr>\n",
       "      <th>top</th>\n",
       "      <td>Male</td>\n",
       "      <td>1-2 Year</td>\n",
       "      <td>Yes</td>\n",
       "    </tr>\n",
       "    <tr>\n",
       "      <th>freq</th>\n",
       "      <td>164780</td>\n",
       "      <td>160195</td>\n",
       "      <td>153959</td>\n",
       "    </tr>\n",
       "  </tbody>\n",
       "</table>\n",
       "</div>"
      ],
      "text/plain": [
       "        Gender Vehicle_Age Vehicle_Damage\n",
       "count   304887      304887         304887\n",
       "unique       2           3              2\n",
       "top       Male    1-2 Year            Yes\n",
       "freq    164780      160195         153959"
      ]
     },
     "execution_count": 12,
     "metadata": {},
     "output_type": "execute_result"
    }
   ],
   "source": [
    "train.describe(include='O')"
   ]
  },
  {
   "cell_type": "code",
   "execution_count": 13,
   "metadata": {},
   "outputs": [
    {
     "data": {
      "text/html": [
       "<div>\n",
       "<style scoped>\n",
       "    .dataframe tbody tr th:only-of-type {\n",
       "        vertical-align: middle;\n",
       "    }\n",
       "\n",
       "    .dataframe tbody tr th {\n",
       "        vertical-align: top;\n",
       "    }\n",
       "\n",
       "    .dataframe thead th {\n",
       "        text-align: right;\n",
       "    }\n",
       "</style>\n",
       "<table border=\"1\" class=\"dataframe\">\n",
       "  <thead>\n",
       "    <tr style=\"text-align: right;\">\n",
       "      <th></th>\n",
       "      <th>id</th>\n",
       "      <th>Age</th>\n",
       "      <th>Driving_License</th>\n",
       "      <th>Region_Code</th>\n",
       "      <th>Previously_Insured</th>\n",
       "      <th>Policy_Sales_Channel</th>\n",
       "      <th>Vintage</th>\n",
       "    </tr>\n",
       "  </thead>\n",
       "  <tbody>\n",
       "    <tr>\n",
       "      <th>count</th>\n",
       "      <td>76222.000000</td>\n",
       "      <td>76222.000000</td>\n",
       "      <td>76222.000000</td>\n",
       "      <td>76222.000000</td>\n",
       "      <td>76222.000000</td>\n",
       "      <td>76222.000000</td>\n",
       "      <td>76222.000000</td>\n",
       "    </tr>\n",
       "    <tr>\n",
       "      <th>mean</th>\n",
       "      <td>189820.373960</td>\n",
       "      <td>38.805332</td>\n",
       "      <td>0.997927</td>\n",
       "      <td>26.359083</td>\n",
       "      <td>0.458542</td>\n",
       "      <td>111.956036</td>\n",
       "      <td>154.168127</td>\n",
       "    </tr>\n",
       "    <tr>\n",
       "      <th>std</th>\n",
       "      <td>110064.355107</td>\n",
       "      <td>15.496940</td>\n",
       "      <td>0.045482</td>\n",
       "      <td>13.234487</td>\n",
       "      <td>0.498282</td>\n",
       "      <td>54.263069</td>\n",
       "      <td>83.675579</td>\n",
       "    </tr>\n",
       "    <tr>\n",
       "      <th>min</th>\n",
       "      <td>3.000000</td>\n",
       "      <td>20.000000</td>\n",
       "      <td>0.000000</td>\n",
       "      <td>0.000000</td>\n",
       "      <td>0.000000</td>\n",
       "      <td>1.000000</td>\n",
       "      <td>10.000000</td>\n",
       "    </tr>\n",
       "    <tr>\n",
       "      <th>25%</th>\n",
       "      <td>94494.000000</td>\n",
       "      <td>25.000000</td>\n",
       "      <td>1.000000</td>\n",
       "      <td>15.000000</td>\n",
       "      <td>0.000000</td>\n",
       "      <td>26.000000</td>\n",
       "      <td>82.000000</td>\n",
       "    </tr>\n",
       "    <tr>\n",
       "      <th>50%</th>\n",
       "      <td>189227.000000</td>\n",
       "      <td>36.000000</td>\n",
       "      <td>1.000000</td>\n",
       "      <td>28.000000</td>\n",
       "      <td>0.000000</td>\n",
       "      <td>131.000000</td>\n",
       "      <td>154.000000</td>\n",
       "    </tr>\n",
       "    <tr>\n",
       "      <th>75%</th>\n",
       "      <td>285698.750000</td>\n",
       "      <td>49.000000</td>\n",
       "      <td>1.000000</td>\n",
       "      <td>35.000000</td>\n",
       "      <td>1.000000</td>\n",
       "      <td>152.000000</td>\n",
       "      <td>227.000000</td>\n",
       "    </tr>\n",
       "    <tr>\n",
       "      <th>max</th>\n",
       "      <td>381105.000000</td>\n",
       "      <td>85.000000</td>\n",
       "      <td>1.000000</td>\n",
       "      <td>52.000000</td>\n",
       "      <td>1.000000</td>\n",
       "      <td>163.000000</td>\n",
       "      <td>299.000000</td>\n",
       "    </tr>\n",
       "  </tbody>\n",
       "</table>\n",
       "</div>"
      ],
      "text/plain": [
       "                  id           Age  Driving_License   Region_Code  \\\n",
       "count   76222.000000  76222.000000     76222.000000  76222.000000   \n",
       "mean   189820.373960     38.805332         0.997927     26.359083   \n",
       "std    110064.355107     15.496940         0.045482     13.234487   \n",
       "min         3.000000     20.000000         0.000000      0.000000   \n",
       "25%     94494.000000     25.000000         1.000000     15.000000   \n",
       "50%    189227.000000     36.000000         1.000000     28.000000   \n",
       "75%    285698.750000     49.000000         1.000000     35.000000   \n",
       "max    381105.000000     85.000000         1.000000     52.000000   \n",
       "\n",
       "       Previously_Insured  Policy_Sales_Channel       Vintage  \n",
       "count        76222.000000          76222.000000  76222.000000  \n",
       "mean             0.458542            111.956036    154.168127  \n",
       "std              0.498282             54.263069     83.675579  \n",
       "min              0.000000              1.000000     10.000000  \n",
       "25%              0.000000             26.000000     82.000000  \n",
       "50%              0.000000            131.000000    154.000000  \n",
       "75%              1.000000            152.000000    227.000000  \n",
       "max              1.000000            163.000000    299.000000  "
      ]
     },
     "execution_count": 13,
     "metadata": {},
     "output_type": "execute_result"
    }
   ],
   "source": [
    "test.describe()"
   ]
  },
  {
   "cell_type": "code",
   "execution_count": 14,
   "metadata": {},
   "outputs": [
    {
     "data": {
      "text/html": [
       "<div>\n",
       "<style scoped>\n",
       "    .dataframe tbody tr th:only-of-type {\n",
       "        vertical-align: middle;\n",
       "    }\n",
       "\n",
       "    .dataframe tbody tr th {\n",
       "        vertical-align: top;\n",
       "    }\n",
       "\n",
       "    .dataframe thead th {\n",
       "        text-align: right;\n",
       "    }\n",
       "</style>\n",
       "<table border=\"1\" class=\"dataframe\">\n",
       "  <thead>\n",
       "    <tr style=\"text-align: right;\">\n",
       "      <th></th>\n",
       "      <th>Gender</th>\n",
       "      <th>Vehicle_Age</th>\n",
       "      <th>Vehicle_Damage</th>\n",
       "    </tr>\n",
       "  </thead>\n",
       "  <tbody>\n",
       "    <tr>\n",
       "      <th>count</th>\n",
       "      <td>76222</td>\n",
       "      <td>76222</td>\n",
       "      <td>76222</td>\n",
       "    </tr>\n",
       "    <tr>\n",
       "      <th>unique</th>\n",
       "      <td>2</td>\n",
       "      <td>3</td>\n",
       "      <td>2</td>\n",
       "    </tr>\n",
       "    <tr>\n",
       "      <th>top</th>\n",
       "      <td>Male</td>\n",
       "      <td>1-2 Year</td>\n",
       "      <td>Yes</td>\n",
       "    </tr>\n",
       "    <tr>\n",
       "      <th>freq</th>\n",
       "      <td>41309</td>\n",
       "      <td>40121</td>\n",
       "      <td>38454</td>\n",
       "    </tr>\n",
       "  </tbody>\n",
       "</table>\n",
       "</div>"
      ],
      "text/plain": [
       "       Gender Vehicle_Age Vehicle_Damage\n",
       "count   76222       76222          76222\n",
       "unique      2           3              2\n",
       "top      Male    1-2 Year            Yes\n",
       "freq    41309       40121          38454"
      ]
     },
     "execution_count": 14,
     "metadata": {},
     "output_type": "execute_result"
    }
   ],
   "source": [
    "test.describe(include='O')"
   ]
  },
  {
   "cell_type": "markdown",
   "metadata": {},
   "source": [
    "3. __Data Visualization__"
   ]
  },
  {
   "cell_type": "code",
   "execution_count": 15,
   "metadata": {},
   "outputs": [
    {
     "data": {
      "image/png": "[encoded data removed]",
      "text/plain": [
       "<Figure size 2880x1296 with 6 Axes>"
      ]
     },
     "metadata": {},
     "output_type": "display_data"
    }
   ],
   "source": [
    "matplotlib.rcParams['font.size'] = 20\n",
    "fig, axes = plt.subplots(nrows=2, ncols=3, figsize=(40,18))\n",
    "\n",
    "axes[0,0].set_title('Age Distribution')\n",
    "sns.histplot(data=train, x='Age', ax=axes[0,0])\n",
    "\n",
    "axes[0,1].set_title('Vintage vs. Annual Premium')\n",
    "sns.scatterplot(data=train, x= 'Vintage', y='Annual_Premium',ax=axes[0,1])\n",
    "\n",
    "axes[0,2].set_title('Vehicle Age')\n",
    "sns.countplot(data=train, x='Vehicle_Age', ax=axes[0,2])\n",
    "\n",
    "axes[1,0].set_title('Vehicle Damaged or Not Damaged')\n",
    "sns.countplot(data=train, x='Vehicle_Damage', ax=axes[1,0])\n",
    "\n",
    "axes[1,1].set_title('Vehicle Age vs. Annual Premium')\n",
    "sns.boxplot(data=train, x='Gender', y='Annual_Premium',ax=axes[1,1])\n",
    "\n",
    "axes[1,2].set_title('Previously Insured')\n",
    "sns.countplot(data=train, x='Previously_Insured',ax=axes[1,2])\n",
    "\n",
    "plt.tight_layout(pad=2)"
   ]
  },
  {
   "cell_type": "code",
   "execution_count": 16,
   "metadata": {},
   "outputs": [
    {
     "data": {
      "text/plain": [
       "Text(0.5, 1.0, 'Distribution of Annual Premium')"
      ]
     },
     "execution_count": 16,
     "metadata": {},
     "output_type": "execute_result"
    },
    {
     "data": {
      "image/png": "[encoded data removed]",
      "text/plain": [
       "<Figure size 720x576 with 1 Axes>"
      ]
     },
     "metadata": {},
     "output_type": "display_data"
    }
   ],
   "source": [
    "plt.figure(figsize=(10,8))\n",
    "matplotlib.rcParams['font.size'] = 14\n",
    "sns.histplot(train['Annual_Premium'], kde=True, bins=40)\n",
    "plt.title('Distribution of Annual Premium',fontsize=20)"
   ]
  },
  {
   "cell_type": "markdown",
   "metadata": {},
   "source": [
    "As seen above on the histogram plot, our Target variable `Annual Premium` is right-skewed; which means that `skewness > 0`. This occurs when there are outliers that can't be filtered out as they are important to the model. We'll be using log-transform in an atempt to reduce the skweness and make it symetrical."
   ]
  },
  {
   "cell_type": "markdown",
   "metadata": {},
   "source": [
    "### Preprocesing"
   ]
  },
  {
   "cell_type": "markdown",
   "metadata": {},
   "source": [
    "1. __Checking & Removing Duplicate Rows In Train Data__"
   ]
  },
  {
   "cell_type": "code",
   "execution_count": 17,
   "metadata": {},
   "outputs": [],
   "source": [
    "def remove_duplicate(data):\n",
    "    print('No. of Rows - Before Removing Duplicates: ', data.shape[0])\n",
    "    data.drop_duplicates(keep='first', inplace=True)\n",
    "    print('No. of Rows - After Removing Duplicates: ', data.shape[0])\n",
    "    return data"
   ]
  },
  {
   "cell_type": "code",
   "execution_count": 18,
   "metadata": {},
   "outputs": [
    {
     "name": "stdout",
     "output_type": "stream",
     "text": [
      "No. of Rows - Before Removing Duplicates:  304887\n",
      "No. of Rows - After Removing Duplicates:  304887\n"
     ]
    }
   ],
   "source": [
    "train = remove_duplicate(train)"
   ]
  },
  {
   "cell_type": "markdown",
   "metadata": {},
   "source": [
    "There's no duplicate in our train data"
   ]
  },
  {
   "cell_type": "markdown",
   "metadata": {},
   "source": [
    "2. __Checking & Filling Missing Values__"
   ]
  },
  {
   "cell_type": "code",
   "execution_count": 19,
   "metadata": {
    "scrolled": true
   },
   "outputs": [
    {
     "data": {
      "text/plain": [
       "id                      0\n",
       "Gender                  0\n",
       "Age                     0\n",
       "Driving_License         0\n",
       "Region_Code             0\n",
       "Previously_Insured      0\n",
       "Vehicle_Age             0\n",
       "Vehicle_Damage          0\n",
       "Policy_Sales_Channel    0\n",
       "Vintage                 0\n",
       "Annual_Premium          0\n",
       "dtype: int64"
      ]
     },
     "execution_count": 19,
     "metadata": {},
     "output_type": "execute_result"
    }
   ],
   "source": [
    "train.isna().sum()"
   ]
  },
  {
   "cell_type": "code",
   "execution_count": 20,
   "metadata": {},
   "outputs": [
    {
     "data": {
      "text/plain": [
       "id                      0\n",
       "Gender                  0\n",
       "Age                     0\n",
       "Driving_License         0\n",
       "Region_Code             0\n",
       "Previously_Insured      0\n",
       "Vehicle_Age             0\n",
       "Vehicle_Damage          0\n",
       "Policy_Sales_Channel    0\n",
       "Vintage                 0\n",
       "dtype: int64"
      ]
     },
     "execution_count": 20,
     "metadata": {},
     "output_type": "execute_result"
    }
   ],
   "source": [
    "test.isna().sum()"
   ]
  },
  {
   "cell_type": "markdown",
   "metadata": {},
   "source": [
    "There's no missing value in the data"
   ]
  },
  {
   "cell_type": "markdown",
   "metadata": {},
   "source": [
    "### Feature Enginerring"
   ]
  },
  {
   "cell_type": "markdown",
   "metadata": {},
   "source": [
    "1. __Indemnity__"
   ]
  },
  {
   "cell_type": "code",
   "execution_count": 21,
   "metadata": {},
   "outputs": [],
   "source": [
    "def get_claim(data):\n",
    "    if data['Previously_Insured'] == 1 and data['Vehicle_Damage'] == 'Yes':\n",
    "        return 1\n",
    "    else:\n",
    "        return 0"
   ]
  },
  {
   "cell_type": "code",
   "execution_count": 22,
   "metadata": {},
   "outputs": [],
   "source": [
    "train['Indemnity'] = train.apply(lambda x: get_claim(x), axis=1)\n",
    "test['Indemnity'] = test.apply(lambda x: get_claim(x), axis=1)"
   ]
  },
  {
   "cell_type": "markdown",
   "metadata": {},
   "source": [
    "2. __Converting Objects to Integer__\n",
    "\n",
    "Gender, Vehicle_Age, & Vehicle_Damage"
   ]
  },
  {
   "cell_type": "code",
   "execution_count": 23,
   "metadata": {},
   "outputs": [
    {
     "data": {
      "text/plain": [
       "1-2 Year     160195\n",
       "< 1 Year     131852\n",
       "> 2 Years     12840\n",
       "Name: Vehicle_Age, dtype: int64"
      ]
     },
     "execution_count": 23,
     "metadata": {},
     "output_type": "execute_result"
    }
   ],
   "source": [
    "train['Vehicle_Age'].value_counts()"
   ]
  },
  {
   "cell_type": "code",
   "execution_count": 24,
   "metadata": {},
   "outputs": [],
   "source": [
    "train['Vehicle_Age'] = train['Vehicle_Age'].replace({'< 1 Year': 0, '1-2 Year': 1, '> 2 Years': 2})\n",
    "test['Vehicle_Age'] = test['Vehicle_Age'].replace({'< 1 Year': 0, '1-2 Year': 1, '> 2 Years': 2})"
   ]
  },
  {
   "cell_type": "code",
   "execution_count": 25,
   "metadata": {},
   "outputs": [
    {
     "data": {
      "text/plain": [
       "Male      164780\n",
       "Female    140107\n",
       "Name: Gender, dtype: int64"
      ]
     },
     "execution_count": 25,
     "metadata": {},
     "output_type": "execute_result"
    }
   ],
   "source": [
    "train['Gender'].value_counts()"
   ]
  },
  {
   "cell_type": "code",
   "execution_count": 26,
   "metadata": {},
   "outputs": [],
   "source": [
    "train['Gender'] = train['Gender'].replace({'Male':1,'Female':0})\n",
    "test['Gender'] = test['Gender'].replace({'Male':1,'Female':0})"
   ]
  },
  {
   "cell_type": "code",
   "execution_count": 27,
   "metadata": {},
   "outputs": [
    {
     "data": {
      "text/plain": [
       "Yes    153959\n",
       "No     150928\n",
       "Name: Vehicle_Damage, dtype: int64"
      ]
     },
     "execution_count": 27,
     "metadata": {},
     "output_type": "execute_result"
    }
   ],
   "source": [
    "train['Vehicle_Damage'].value_counts()"
   ]
  },
  {
   "cell_type": "code",
   "execution_count": 28,
   "metadata": {},
   "outputs": [],
   "source": [
    "train['Vehicle_Damage'] = train['Vehicle_Damage'].replace({'Yes': 1, 'No':0})\n",
    "test['Vehicle_Damage'] = test['Vehicle_Damage'].replace({'Yes': 1, 'No': 0})"
   ]
  },
  {
   "cell_type": "markdown",
   "metadata": {},
   "source": [
    "3. __Vehicle Damage Due To Driver's Age__"
   ]
  },
  {
   "cell_type": "code",
   "execution_count": 29,
   "metadata": {},
   "outputs": [],
   "source": [
    "train['Vehicle_Damage_per_Age'] = train.groupby(['Region_Code','Age'])['Vehicle_Age'].transform('sum')\n",
    "test['Vehicle_Damage_per_Age'] = test.groupby(['Region_Code','Age'])['Vehicle_Age'].transform('sum')"
   ]
  },
  {
   "cell_type": "markdown",
   "metadata": {},
   "source": [
    "4. __Customer Loyalty In A Year__"
   ]
  },
  {
   "cell_type": "code",
   "execution_count": 30,
   "metadata": {},
   "outputs": [],
   "source": [
    "train['Customer_Loyalty'] = train['Vintage']/365\n",
    "test['Customer_Loyalty'] = test['Vintage']/365"
   ]
  },
  {
   "cell_type": "markdown",
   "metadata": {},
   "source": [
    "5. __Vehicle Damage per Sales Channel__"
   ]
  },
  {
   "cell_type": "code",
   "execution_count": 31,
   "metadata": {},
   "outputs": [],
   "source": [
    "train['Vehicle_Damage_per_Sales_Policy_Channel'] = train.groupby(['Region_Code','Vehicle_Age'])['Policy_Sales_Channel'].transform('sum')\n",
    "test['Vehicle_Damage_per_Sales_Policy_Channel'] = test.groupby(['Region_Code','Vehicle_Age'])['Policy_Sales_Channel'].transform('sum')"
   ]
  },
  {
   "cell_type": "markdown",
   "metadata": {},
   "source": [
    "6. __Vehicle Damage due to Vehicle's Age__"
   ]
  },
  {
   "cell_type": "code",
   "execution_count": 32,
   "metadata": {},
   "outputs": [],
   "source": [
    "train['Vehicle_Damage_per_Vehicle_Age'] = train.groupby(['Region_Code','Vehicle_Age'])['Vehicle_Damage'].transform('sum')\n",
    "test['Vehicle_Damage_per_Vehicle_Age'] = test.groupby(['Region_Code','Vehicle_Age'])['Vehicle_Damage'].transform('sum')"
   ]
  },
  {
   "cell_type": "markdown",
   "metadata": {},
   "source": [
    "7. __Old Vehicle__\n",
    "\n",
    "I created a new column, `Old Vehicle`: If Vehicle_Age is 2 (recall it's same as: `Vehicle_Age > 2 Years`) and Vehicle is damaged (`Vehicle_Damage == 1 or Yes`) then we classify such vehicle as an old vehicle."
   ]
  },
  {
   "cell_type": "code",
   "execution_count": 33,
   "metadata": {},
   "outputs": [],
   "source": [
    "train.loc[(train['Vehicle_Age'] == 2) & (train['Vehicle_Damage'] == 1), 'Old_Vehicle']=1\n",
    "train.loc[(train['Vehicle_Age']!=2) & (train['Vehicle_Damage']==0), 'Old_Vehicle'] = 0\n",
    "freq1 = train.groupby(['Old_Vehicle']).size()/len(train)\n",
    "train['Old_Vehicle'] = train['Old_Vehicle'].map(freq1)\n",
    "train['Old_Vehicle'].fillna(0, inplace =True)\n",
    "\n",
    "\n",
    "test.loc[(test['Vehicle_Age'] == 2) & (test['Vehicle_Damage'] == 1), 'Old_Vehicle']=1\n",
    "test.loc[(train['Vehicle_Age']!=2) & (test['Vehicle_Damage']==0), 'Old_Vehicle'] = 0\n",
    "freq2 = test.groupby(['Old_Vehicle']).size()/len(test)\n",
    "test['Old_Vehicle'] = test['Old_Vehicle'].map(freq2)\n",
    "test['Old_Vehicle'].fillna(0, inplace =True)"
   ]
  },
  {
   "cell_type": "code",
   "execution_count": 34,
   "metadata": {},
   "outputs": [
    {
     "data": {
      "text/plain": [
       "0.494990    150916\n",
       "0.000000    141143\n",
       "0.042075     12828\n",
       "Name: Old_Vehicle, dtype: int64"
      ]
     },
     "execution_count": 34,
     "metadata": {},
     "output_type": "execute_result"
    }
   ],
   "source": [
    "train['Old_Vehicle'].value_counts()"
   ]
  },
  {
   "cell_type": "markdown",
   "metadata": {},
   "source": [
    "8. __Vehicle Damage by Region Code__"
   ]
  },
  {
   "cell_type": "code",
   "execution_count": 35,
   "metadata": {},
   "outputs": [],
   "source": [
    "train['Vehicle_Damage_per_Region_Code'] = train.groupby(['Vehicle_Damage'])['Region_Code'].transform('sum')\n",
    "test['Vehicle_Damage_per_Region_Code'] = test.groupby(['Vehicle_Damage'])['Region_Code'].transform('sum')"
   ]
  },
  {
   "cell_type": "markdown",
   "metadata": {},
   "source": [
    "9. __Log Transformation of Target Column__\n",
    "\n",
    "Skewness is a measure of symmetry or we can say it's also a measure for lack of symmetry, and sometimes this concept is used for checking lack of Normality assumption of Linear Regression. As highlighted previously at the visualization segment, our target column is right skewed so I'll transform the target column using `Log Transformation` technique."
   ]
  },
  {
   "cell_type": "code",
   "execution_count": 36,
   "metadata": {},
   "outputs": [],
   "source": [
    "train['Annual_Premium'] = np.log(train['Annual_Premium'])"
   ]
  },
  {
   "cell_type": "code",
   "execution_count": 37,
   "metadata": {},
   "outputs": [
    {
     "data": {
      "text/plain": [
       "Text(0.5, 1.0, 'Distribution of Transformed Annual Premium')"
      ]
     },
     "execution_count": 37,
     "metadata": {},
     "output_type": "execute_result"
    },
    {
     "data": {
      "image/png": "[encoded data removed]",
      "text/plain": [
       "<Figure size 720x576 with 1 Axes>"
      ]
     },
     "metadata": {},
     "output_type": "display_data"
    }
   ],
   "source": [
    "plt.figure(figsize=(10,8))\n",
    "matplotlib.rcParams['font.size'] = 12\n",
    "sns.histplot(train['Annual_Premium'], kde=True, bins=40)\n",
    "plt.title('Distribution of Transformed Annual Premium')"
   ]
  },
  {
   "cell_type": "markdown",
   "metadata": {},
   "source": [
    "As seen above, the log transformation worked well on our positively skewed continuous target column. We've been able to transform the data to become more symmetric in shape, thus `Annual Premium` is looking more like it follows a normal distribution."
   ]
  },
  {
   "cell_type": "markdown",
   "metadata": {},
   "source": [
    "### Input Features and Target  Label Selection"
   ]
  },
  {
   "cell_type": "code",
   "execution_count": 38,
   "metadata": {},
   "outputs": [],
   "source": [
    "input_col = ['id', 'Gender', 'Age', 'Driving_License', 'Region_Code','Previously_Insured', 'Vehicle_Age', 'Vehicle_Damage',\n",
    "             'Policy_Sales_Channel', 'Vintage', 'Indemnity','Vehicle_Damage_per_Age','Customer_Loyalty',\n",
    "             'Vehicle_Damage_per_Sales_Policy_Channel','Vehicle_Damage_per_Vehicle_Age', 'Old_Vehicle',\n",
    "             'Vehicle_Damage_per_Region_Code']\n",
    "\n",
    "target = 'Annual_Premium'"
   ]
  },
  {
   "cell_type": "code",
   "execution_count": 39,
   "metadata": {},
   "outputs": [],
   "source": [
    "train_input = train[input_col].copy()\n",
    "test_input = test[input_col].copy()\n",
    "train_target = train[target]"
   ]
  },
  {
   "cell_type": "markdown",
   "metadata": {},
   "source": [
    "**Extracting Numeric & Categorical Features**\n",
    "\n",
    "Let's also identify numeric and categorical columns in our input col. We already have some binary categorical columns in (0/1) so we can treat them as a numeric columns."
   ]
  },
  {
   "cell_type": "code",
   "execution_count": 40,
   "metadata": {},
   "outputs": [],
   "source": [
    "num_col = ['Gender','Age','Driving_License','Previously_Insured','Vehicle_Damage','Vintage','Indemnity','Vehicle_Damage_per_Age',\n",
    "           'Customer_Loyalty','Vehicle_Damage_per_Sales_Policy_Channel','Vehicle_Damage_per_Vehicle_Age','Vehicle_Age',\n",
    "           'Old_Vehicle','Vehicle_Damage_per_Region_Code']\n",
    "\n",
    "cat_col = ['Policy_Sales_Channel','Region_Code']"
   ]
  },
  {
   "cell_type": "markdown",
   "metadata": {},
   "source": [
    "### Encoding and Scaling "
   ]
  },
  {
   "cell_type": "code",
   "execution_count": 41,
   "metadata": {},
   "outputs": [],
   "source": [
    "from sklearn.preprocessing import LabelEncoder, StandardScaler"
   ]
  },
  {
   "cell_type": "code",
   "execution_count": 42,
   "metadata": {},
   "outputs": [],
   "source": [
    "scaler = StandardScaler()"
   ]
  },
  {
   "cell_type": "code",
   "execution_count": 43,
   "metadata": {},
   "outputs": [
    {
     "data": {
      "text/plain": [
       "StandardScaler()"
      ]
     },
     "execution_count": 43,
     "metadata": {},
     "output_type": "execute_result"
    }
   ],
   "source": [
    "scaler.fit(train_input[num_col])"
   ]
  },
  {
   "cell_type": "code",
   "execution_count": 44,
   "metadata": {},
   "outputs": [],
   "source": [
    "train_input[num_col] = scaler.transform(train_input[num_col])\n",
    "test_input[num_col] = scaler.transform(test_input[num_col])"
   ]
  },
  {
   "cell_type": "code",
   "execution_count": 45,
   "metadata": {},
   "outputs": [],
   "source": [
    "encoder = LabelEncoder()"
   ]
  },
  {
   "cell_type": "code",
   "execution_count": 46,
   "metadata": {},
   "outputs": [],
   "source": [
    "for i in cat_col:\n",
    "    train_input[i] = encoder.fit_transform(train_input[i])\n",
    "    test_input[i] = encoder.fit_transform(test_input[i])"
   ]
  },
  {
   "cell_type": "markdown",
   "metadata": {},
   "source": [
    "### Merging Back Scaled Numeric & Encoded Categorical Features"
   ]
  },
  {
   "cell_type": "code",
   "execution_count": 47,
   "metadata": {},
   "outputs": [
    {
     "data": {
      "text/html": [
       "<div>\n",
       "<style scoped>\n",
       "    .dataframe tbody tr th:only-of-type {\n",
       "        vertical-align: middle;\n",
       "    }\n",
       "\n",
       "    .dataframe tbody tr th {\n",
       "        vertical-align: top;\n",
       "    }\n",
       "\n",
       "    .dataframe thead th {\n",
       "        text-align: right;\n",
       "    }\n",
       "</style>\n",
       "<table border=\"1\" class=\"dataframe\">\n",
       "  <thead>\n",
       "    <tr style=\"text-align: right;\">\n",
       "      <th></th>\n",
       "      <th>Gender</th>\n",
       "      <th>Age</th>\n",
       "      <th>Driving_License</th>\n",
       "      <th>Previously_Insured</th>\n",
       "      <th>Vehicle_Damage</th>\n",
       "      <th>Vintage</th>\n",
       "      <th>Indemnity</th>\n",
       "      <th>Vehicle_Damage_per_Age</th>\n",
       "      <th>Customer_Loyalty</th>\n",
       "      <th>Vehicle_Damage_per_Sales_Policy_Channel</th>\n",
       "      <th>Vehicle_Damage_per_Vehicle_Age</th>\n",
       "      <th>Vehicle_Age</th>\n",
       "      <th>Old_Vehicle</th>\n",
       "      <th>Vehicle_Damage_per_Region_Code</th>\n",
       "      <th>Policy_Sales_Channel</th>\n",
       "      <th>Region_Code</th>\n",
       "    </tr>\n",
       "  </thead>\n",
       "  <tbody>\n",
       "    <tr>\n",
       "      <th>0</th>\n",
       "      <td>0.922099</td>\n",
       "      <td>-1.084538</td>\n",
       "      <td>0.046365</td>\n",
       "      <td>-0.919484</td>\n",
       "      <td>0.990108</td>\n",
       "      <td>0.580945</td>\n",
       "      <td>-0.163044</td>\n",
       "      <td>-0.560091</td>\n",
       "      <td>0.580945</td>\n",
       "      <td>-0.810299</td>\n",
       "      <td>-0.630266</td>\n",
       "      <td>-1.07403</td>\n",
       "      <td>-1.003728</td>\n",
       "      <td>0.990108</td>\n",
       "      <td>144</td>\n",
       "      <td>40</td>\n",
       "    </tr>\n",
       "    <tr>\n",
       "      <th>1</th>\n",
       "      <td>-1.084482</td>\n",
       "      <td>-0.826727</td>\n",
       "      <td>0.046365</td>\n",
       "      <td>1.087566</td>\n",
       "      <td>-1.009991</td>\n",
       "      <td>-1.307422</td>\n",
       "      <td>-0.163044</td>\n",
       "      <td>-0.533147</td>\n",
       "      <td>-1.307422</td>\n",
       "      <td>0.167459</td>\n",
       "      <td>-0.457634</td>\n",
       "      <td>-1.07403</td>\n",
       "      <td>1.009500</td>\n",
       "      <td>-1.009991</td>\n",
       "      <td>24</td>\n",
       "      <td>8</td>\n",
       "    </tr>\n",
       "    <tr>\n",
       "      <th>2</th>\n",
       "      <td>-1.084482</td>\n",
       "      <td>-0.440011</td>\n",
       "      <td>0.046365</td>\n",
       "      <td>-0.919484</td>\n",
       "      <td>0.990108</td>\n",
       "      <td>-1.426939</td>\n",
       "      <td>-0.163044</td>\n",
       "      <td>-0.080717</td>\n",
       "      <td>-1.426939</td>\n",
       "      <td>0.299989</td>\n",
       "      <td>-0.304378</td>\n",
       "      <td>-1.07403</td>\n",
       "      <td>-1.003728</td>\n",
       "      <td>0.990108</td>\n",
       "      <td>117</td>\n",
       "      <td>28</td>\n",
       "    </tr>\n",
       "    <tr>\n",
       "      <th>3</th>\n",
       "      <td>0.922099</td>\n",
       "      <td>-0.440011</td>\n",
       "      <td>0.046365</td>\n",
       "      <td>-0.919484</td>\n",
       "      <td>0.990108</td>\n",
       "      <td>0.724365</td>\n",
       "      <td>-0.163044</td>\n",
       "      <td>-0.554477</td>\n",
       "      <td>0.724365</td>\n",
       "      <td>-0.607295</td>\n",
       "      <td>-0.562903</td>\n",
       "      <td>-1.07403</td>\n",
       "      <td>-1.003728</td>\n",
       "      <td>0.990108</td>\n",
       "      <td>144</td>\n",
       "      <td>37</td>\n",
       "    </tr>\n",
       "    <tr>\n",
       "      <th>4</th>\n",
       "      <td>-1.084482</td>\n",
       "      <td>-0.955632</td>\n",
       "      <td>0.046365</td>\n",
       "      <td>-0.919484</td>\n",
       "      <td>0.990108</td>\n",
       "      <td>0.808027</td>\n",
       "      <td>-0.163044</td>\n",
       "      <td>-0.414146</td>\n",
       "      <td>0.808027</td>\n",
       "      <td>0.299989</td>\n",
       "      <td>-0.304378</td>\n",
       "      <td>-1.07403</td>\n",
       "      <td>-1.003728</td>\n",
       "      <td>0.990108</td>\n",
       "      <td>148</td>\n",
       "      <td>28</td>\n",
       "    </tr>\n",
       "  </tbody>\n",
       "</table>\n",
       "</div>"
      ],
      "text/plain": [
       "     Gender       Age  Driving_License  Previously_Insured  Vehicle_Damage  \\\n",
       "0  0.922099 -1.084538         0.046365           -0.919484        0.990108   \n",
       "1 -1.084482 -0.826727         0.046365            1.087566       -1.009991   \n",
       "2 -1.084482 -0.440011         0.046365           -0.919484        0.990108   \n",
       "3  0.922099 -0.440011         0.046365           -0.919484        0.990108   \n",
       "4 -1.084482 -0.955632         0.046365           -0.919484        0.990108   \n",
       "\n",
       "    Vintage  Indemnity  Vehicle_Damage_per_Age  Customer_Loyalty  \\\n",
       "0  0.580945  -0.163044               -0.560091          0.580945   \n",
       "1 -1.307422  -0.163044               -0.533147         -1.307422   \n",
       "2 -1.426939  -0.163044               -0.080717         -1.426939   \n",
       "3  0.724365  -0.163044               -0.554477          0.724365   \n",
       "4  0.808027  -0.163044               -0.414146          0.808027   \n",
       "\n",
       "   Vehicle_Damage_per_Sales_Policy_Channel  Vehicle_Damage_per_Vehicle_Age  \\\n",
       "0                                -0.810299                       -0.630266   \n",
       "1                                 0.167459                       -0.457634   \n",
       "2                                 0.299989                       -0.304378   \n",
       "3                                -0.607295                       -0.562903   \n",
       "4                                 0.299989                       -0.304378   \n",
       "\n",
       "   Vehicle_Age  Old_Vehicle  Vehicle_Damage_per_Region_Code  \\\n",
       "0     -1.07403    -1.003728                        0.990108   \n",
       "1     -1.07403     1.009500                       -1.009991   \n",
       "2     -1.07403    -1.003728                        0.990108   \n",
       "3     -1.07403    -1.003728                        0.990108   \n",
       "4     -1.07403    -1.003728                        0.990108   \n",
       "\n",
       "   Policy_Sales_Channel  Region_Code  \n",
       "0                   144           40  \n",
       "1                    24            8  \n",
       "2                   117           28  \n",
       "3                   144           37  \n",
       "4                   148           28  "
      ]
     },
     "execution_count": 47,
     "metadata": {},
     "output_type": "execute_result"
    }
   ],
   "source": [
    "train_df = train_input[num_col + cat_col]\n",
    "test_df = test_input[num_col + cat_col]\n",
    "\n",
    "train_df.head()"
   ]
  },
  {
   "cell_type": "markdown",
   "metadata": {},
   "source": [
    "### Spliting Train Data into Train and Validation Data"
   ]
  },
  {
   "cell_type": "code",
   "execution_count": 48,
   "metadata": {},
   "outputs": [],
   "source": [
    "X = train_df\n",
    "y= train_target"
   ]
  },
  {
   "cell_type": "code",
   "execution_count": 49,
   "metadata": {},
   "outputs": [],
   "source": [
    "from sklearn.model_selection import train_test_split"
   ]
  },
  {
   "cell_type": "code",
   "execution_count": 50,
   "metadata": {},
   "outputs": [],
   "source": [
    "X_train, X_val, Y_train, Y_val = train_test_split(X,y, test_size=0.2, random_state=42)"
   ]
  },
  {
   "cell_type": "code",
   "execution_count": 51,
   "metadata": {},
   "outputs": [
    {
     "name": "stdout",
     "output_type": "stream",
     "text": [
      "X_train Shape: (243909, 16)\n",
      "Y_train Shape: (243909,)\n",
      "X_val Shape: (60978, 16)\n",
      "Y_val Shape: (60978,)\n"
     ]
    }
   ],
   "source": [
    "print('X_train Shape: {}'.format(X_train.shape))\n",
    "print('Y_train Shape: {}'.format(Y_train.shape))\n",
    "print('X_val Shape: {}'.format(X_val.shape))\n",
    "print('Y_val Shape: {}'.format(Y_val.shape))"
   ]
  },
  {
   "cell_type": "markdown",
   "metadata": {},
   "source": [
    "### Saving Preprocessed Data"
   ]
  },
  {
   "cell_type": "code",
   "execution_count": 52,
   "metadata": {},
   "outputs": [],
   "source": [
    "X_train.to_csv('X_train.csv',index=False)\n",
    "Y_train.to_csv('Y_train.csv',index=False)\n",
    "\n",
    "X_val.to_csv('X_val.csv',index=False)\n",
    "Y_val.to_csv('Y_val.csv',index=False)\n",
    "\n",
    "test_input.to_csv('test_input.csv', index=False)"
   ]
  },
  {
   "cell_type": "markdown",
   "metadata": {},
   "source": [
    "### Training The Model"
   ]
  },
  {
   "cell_type": "code",
   "execution_count": 53,
   "metadata": {},
   "outputs": [],
   "source": [
    "from sklearn.metrics import mean_squared_error"
   ]
  },
  {
   "cell_type": "code",
   "execution_count": 54,
   "metadata": {},
   "outputs": [],
   "source": [
    "def evaluate(train_x, train_y, val_x, val_y, model):\n",
    "    model.fit(train_x, train_y)\n",
    "    train_pred = model.predict(train_x)\n",
    "    val_pred = model.predict(val_x)\n",
    "    rmse_train = np.sqrt(mean_squared_error(train_pred, train_y))\n",
    "    rmse_val = np.sqrt(mean_squared_error(val_pred, val_y))\n",
    "    print('Train RMSE : {}'.format(rmse_train))\n",
    "    print('Validation RMSE : {}'.format(rmse_val))"
   ]
  },
  {
   "cell_type": "markdown",
   "metadata": {},
   "source": [
    "**Creating A Baseline Model**\n",
    "\n",
    "#### Random Forest"
   ]
  },
  {
   "cell_type": "code",
   "execution_count": 55,
   "metadata": {},
   "outputs": [],
   "source": [
    "from sklearn.ensemble import RandomForestRegressor"
   ]
  },
  {
   "cell_type": "code",
   "execution_count": 56,
   "metadata": {},
   "outputs": [],
   "source": [
    "rfmodel = RandomForestRegressor(n_jobs=-1, n_estimators=100, random_state=42)"
   ]
  },
  {
   "cell_type": "code",
   "execution_count": 57,
   "metadata": {},
   "outputs": [
    {
     "name": "stdout",
     "output_type": "stream",
     "text": [
      "Train RMSE : 0.3714680165430004\n",
      "Validation RMSE : 0.897599011802531\n"
     ]
    }
   ],
   "source": [
    "evaluate(X_train, Y_train, X_val, Y_val, rfmodel)"
   ]
  },
  {
   "cell_type": "markdown",
   "metadata": {},
   "source": [
    "#### XGBoost "
   ]
  },
  {
   "cell_type": "code",
   "execution_count": 58,
   "metadata": {},
   "outputs": [],
   "source": [
    "from xgboost import XGBRegressor"
   ]
  },
  {
   "cell_type": "code",
   "execution_count": 59,
   "metadata": {},
   "outputs": [],
   "source": [
    "xgbmodel = XGBRegressor(n_jobs=-1, max_depth =4, n_estimators=100, random_state=42)"
   ]
  },
  {
   "cell_type": "code",
   "execution_count": 60,
   "metadata": {},
   "outputs": [
    {
     "name": "stdout",
     "output_type": "stream",
     "text": [
      "Train RMSE : 0.8232771199354861\n",
      "Validation RMSE : 0.8281870387108822\n"
     ]
    }
   ],
   "source": [
    "evaluate(X_train, Y_train, X_val, Y_val, xgbmodel)"
   ]
  },
  {
   "cell_type": "markdown",
   "metadata": {},
   "source": [
    "#### LigthGBM"
   ]
  },
  {
   "cell_type": "code",
   "execution_count": 61,
   "metadata": {},
   "outputs": [],
   "source": [
    "import yaml  \n",
    "yaml.warnings({'YAMLLoadWarning': False})\n",
    "\n",
    "import warnings\n",
    "warnings.filterwarnings('ignore')"
   ]
  },
  {
   "cell_type": "code",
   "execution_count": 62,
   "metadata": {},
   "outputs": [],
   "source": [
    "from lightgbm import LGBMRegressor"
   ]
  },
  {
   "cell_type": "code",
   "execution_count": 63,
   "metadata": {},
   "outputs": [],
   "source": [
    "lgbmodel = LGBMRegressor(n_estimators=200, max_depth=8,  bagging_fraction= 0.1, num_leaves = 200, random_state=42, n_jobs=-1)"
   ]
  },
  {
   "cell_type": "code",
   "execution_count": 64,
   "metadata": {},
   "outputs": [
    {
     "name": "stdout",
     "output_type": "stream",
     "text": [
      "[LightGBM] [Warning] bagging_fraction is set=0.1, subsample=1.0 will be ignored. Current value: bagging_fraction=0.1\n",
      "Train RMSE : 0.7977024427562814\n",
      "Validation RMSE : 0.8303247839388971\n"
     ]
    }
   ],
   "source": [
    "evaluate(X_train, Y_train, X_val, Y_val, lgbmodel)"
   ]
  },
  {
   "cell_type": "markdown",
   "metadata": {},
   "source": [
    "#### CatBoost"
   ]
  },
  {
   "cell_type": "code",
   "execution_count": 65,
   "metadata": {},
   "outputs": [],
   "source": [
    "from catboost import CatBoostRegressor"
   ]
  },
  {
   "cell_type": "code",
   "execution_count": 66,
   "metadata": {},
   "outputs": [],
   "source": [
    "cbmodel = CatBoostRegressor(random_state=42, learning_rate=0.1, n_estimators=100, max_depth=4)"
   ]
  },
  {
   "cell_type": "code",
   "execution_count": 67,
   "metadata": {},
   "outputs": [
    {
     "name": "stdout",
     "output_type": "stream",
     "text": [
      "0:\tlearn: 0.9873528\ttotal: 1.85s\tremaining: 3m 3s\n",
      "1:\tlearn: 0.9726896\ttotal: 2.01s\tremaining: 1m 38s\n",
      "2:\tlearn: 0.9610080\ttotal: 2.18s\tremaining: 1m 10s\n",
      "3:\tlearn: 0.9507887\ttotal: 2.27s\tremaining: 54.6s\n",
      "4:\tlearn: 0.9392833\ttotal: 2.39s\tremaining: 45.3s\n",
      "5:\tlearn: 0.9313336\ttotal: 2.5s\tremaining: 39.1s\n",
      "6:\tlearn: 0.9248801\ttotal: 2.61s\tremaining: 34.7s\n",
      "7:\tlearn: 0.9170454\ttotal: 2.71s\tremaining: 31.1s\n",
      "8:\tlearn: 0.9119472\ttotal: 2.8s\tremaining: 28.3s\n",
      "9:\tlearn: 0.9059942\ttotal: 2.91s\tremaining: 26.2s\n",
      "10:\tlearn: 0.9021080\ttotal: 2.98s\tremaining: 24.2s\n",
      "11:\tlearn: 0.8975325\ttotal: 3.08s\tremaining: 22.6s\n",
      "12:\tlearn: 0.8947307\ttotal: 3.15s\tremaining: 21.1s\n",
      "13:\tlearn: 0.8908883\ttotal: 3.24s\tremaining: 19.9s\n",
      "14:\tlearn: 0.8887130\ttotal: 3.35s\tremaining: 19s\n",
      "15:\tlearn: 0.8853173\ttotal: 3.48s\tremaining: 18.2s\n",
      "16:\tlearn: 0.8836428\ttotal: 3.59s\tremaining: 17.5s\n",
      "17:\tlearn: 0.8810932\ttotal: 3.71s\tremaining: 16.9s\n",
      "18:\tlearn: 0.8797420\ttotal: 3.81s\tremaining: 16.2s\n",
      "19:\tlearn: 0.8776004\ttotal: 3.92s\tremaining: 15.7s\n",
      "20:\tlearn: 0.8748316\ttotal: 4.03s\tremaining: 15.2s\n",
      "21:\tlearn: 0.8738227\ttotal: 4.12s\tremaining: 14.6s\n",
      "22:\tlearn: 0.8710906\ttotal: 4.23s\tremaining: 14.2s\n",
      "23:\tlearn: 0.8697802\ttotal: 4.32s\tremaining: 13.7s\n",
      "24:\tlearn: 0.8686516\ttotal: 4.41s\tremaining: 13.2s\n",
      "25:\tlearn: 0.8675349\ttotal: 4.58s\tremaining: 13s\n",
      "26:\tlearn: 0.8657978\ttotal: 4.71s\tremaining: 12.7s\n",
      "27:\tlearn: 0.8651277\ttotal: 4.81s\tremaining: 12.4s\n",
      "28:\tlearn: 0.8636760\ttotal: 4.88s\tremaining: 12s\n",
      "29:\tlearn: 0.8627675\ttotal: 4.99s\tremaining: 11.6s\n",
      "30:\tlearn: 0.8610662\ttotal: 5.09s\tremaining: 11.3s\n",
      "31:\tlearn: 0.8603943\ttotal: 5.18s\tremaining: 11s\n",
      "32:\tlearn: 0.8592580\ttotal: 5.26s\tremaining: 10.7s\n",
      "33:\tlearn: 0.8581290\ttotal: 5.34s\tremaining: 10.4s\n",
      "34:\tlearn: 0.8575150\ttotal: 5.42s\tremaining: 10.1s\n",
      "35:\tlearn: 0.8567337\ttotal: 5.53s\tremaining: 9.83s\n",
      "36:\tlearn: 0.8560350\ttotal: 5.65s\tremaining: 9.63s\n",
      "37:\tlearn: 0.8555617\ttotal: 5.85s\tremaining: 9.54s\n",
      "38:\tlearn: 0.8548855\ttotal: 6.25s\tremaining: 9.77s\n",
      "39:\tlearn: 0.8545639\ttotal: 6.41s\tremaining: 9.61s\n",
      "40:\tlearn: 0.8538801\ttotal: 6.53s\tremaining: 9.4s\n",
      "41:\tlearn: 0.8534919\ttotal: 6.64s\tremaining: 9.17s\n",
      "42:\tlearn: 0.8528453\ttotal: 6.83s\tremaining: 9.05s\n",
      "43:\tlearn: 0.8523417\ttotal: 6.93s\tremaining: 8.82s\n",
      "44:\tlearn: 0.8519675\ttotal: 7.03s\tremaining: 8.6s\n",
      "45:\tlearn: 0.8517028\ttotal: 7.17s\tremaining: 8.42s\n",
      "46:\tlearn: 0.8513502\ttotal: 7.31s\tremaining: 8.24s\n",
      "47:\tlearn: 0.8509774\ttotal: 7.4s\tremaining: 8.01s\n",
      "48:\tlearn: 0.8506888\ttotal: 7.48s\tremaining: 7.79s\n",
      "49:\tlearn: 0.8504484\ttotal: 7.65s\tremaining: 7.65s\n",
      "50:\tlearn: 0.8497070\ttotal: 7.82s\tremaining: 7.51s\n",
      "51:\tlearn: 0.8493761\ttotal: 7.9s\tremaining: 7.29s\n",
      "52:\tlearn: 0.8491595\ttotal: 7.98s\tremaining: 7.08s\n",
      "53:\tlearn: 0.8487257\ttotal: 8.08s\tremaining: 6.89s\n",
      "54:\tlearn: 0.8485597\ttotal: 8.17s\tremaining: 6.68s\n",
      "55:\tlearn: 0.8483232\ttotal: 8.25s\tremaining: 6.48s\n",
      "56:\tlearn: 0.8478079\ttotal: 8.4s\tremaining: 6.33s\n",
      "57:\tlearn: 0.8476252\ttotal: 8.48s\tremaining: 6.14s\n",
      "58:\tlearn: 0.8473922\ttotal: 8.62s\tremaining: 5.99s\n",
      "59:\tlearn: 0.8471852\ttotal: 8.75s\tremaining: 5.83s\n",
      "60:\tlearn: 0.8468328\ttotal: 8.85s\tremaining: 5.66s\n",
      "61:\tlearn: 0.8461581\ttotal: 8.97s\tremaining: 5.5s\n",
      "62:\tlearn: 0.8457792\ttotal: 9.08s\tremaining: 5.33s\n",
      "63:\tlearn: 0.8455018\ttotal: 9.16s\tremaining: 5.15s\n",
      "64:\tlearn: 0.8453966\ttotal: 9.29s\tremaining: 5s\n",
      "65:\tlearn: 0.8451429\ttotal: 9.42s\tremaining: 4.86s\n",
      "66:\tlearn: 0.8450158\ttotal: 9.51s\tremaining: 4.68s\n",
      "67:\tlearn: 0.8447875\ttotal: 9.63s\tremaining: 4.53s\n",
      "68:\tlearn: 0.8446085\ttotal: 9.72s\tremaining: 4.37s\n",
      "69:\tlearn: 0.8444027\ttotal: 9.83s\tremaining: 4.21s\n",
      "70:\tlearn: 0.8442828\ttotal: 9.93s\tremaining: 4.06s\n",
      "71:\tlearn: 0.8438467\ttotal: 10.1s\tremaining: 3.91s\n",
      "72:\tlearn: 0.8436582\ttotal: 10.4s\tremaining: 3.84s\n",
      "73:\tlearn: 0.8435844\ttotal: 10.6s\tremaining: 3.72s\n",
      "74:\tlearn: 0.8434151\ttotal: 10.7s\tremaining: 3.57s\n",
      "75:\tlearn: 0.8431621\ttotal: 10.9s\tremaining: 3.44s\n",
      "76:\tlearn: 0.8427331\ttotal: 11s\tremaining: 3.29s\n",
      "77:\tlearn: 0.8426103\ttotal: 11.2s\tremaining: 3.16s\n",
      "78:\tlearn: 0.8419873\ttotal: 11.3s\tremaining: 3.02s\n",
      "79:\tlearn: 0.8417577\ttotal: 11.5s\tremaining: 2.87s\n",
      "80:\tlearn: 0.8415739\ttotal: 11.7s\tremaining: 2.73s\n",
      "81:\tlearn: 0.8414048\ttotal: 11.8s\tremaining: 2.59s\n",
      "82:\tlearn: 0.8410296\ttotal: 12s\tremaining: 2.46s\n",
      "83:\tlearn: 0.8409256\ttotal: 12.2s\tremaining: 2.32s\n",
      "84:\tlearn: 0.8407853\ttotal: 12.3s\tremaining: 2.17s\n",
      "85:\tlearn: 0.8406621\ttotal: 12.4s\tremaining: 2.03s\n",
      "86:\tlearn: 0.8405484\ttotal: 12.6s\tremaining: 1.88s\n",
      "87:\tlearn: 0.8404539\ttotal: 12.7s\tremaining: 1.74s\n",
      "88:\tlearn: 0.8399499\ttotal: 12.9s\tremaining: 1.59s\n",
      "89:\tlearn: 0.8398415\ttotal: 13s\tremaining: 1.45s\n",
      "90:\tlearn: 0.8395244\ttotal: 13.2s\tremaining: 1.3s\n",
      "91:\tlearn: 0.8394021\ttotal: 13.3s\tremaining: 1.16s\n",
      "92:\tlearn: 0.8393153\ttotal: 13.4s\tremaining: 1.01s\n",
      "93:\tlearn: 0.8391735\ttotal: 13.5s\tremaining: 861ms\n",
      "94:\tlearn: 0.8390513\ttotal: 13.6s\tremaining: 715ms\n",
      "95:\tlearn: 0.8388585\ttotal: 13.7s\tremaining: 571ms\n",
      "96:\tlearn: 0.8385940\ttotal: 13.8s\tremaining: 428ms\n",
      "97:\tlearn: 0.8385174\ttotal: 13.9s\tremaining: 284ms\n",
      "98:\tlearn: 0.8384012\ttotal: 14s\tremaining: 142ms\n",
      "99:\tlearn: 0.8383322\ttotal: 14.1s\tremaining: 0us\n",
      "Train RMSE : 0.8383321922835657\n",
      "Validation RMSE : 0.8384028517933315\n"
     ]
    }
   ],
   "source": [
    "evaluate(X_train, Y_train, X_val, Y_val, cbmodel)"
   ]
  },
  {
   "cell_type": "markdown",
   "metadata": {},
   "source": [
    "### Hyperparameter Tunning With GridSearchCV"
   ]
  },
  {
   "cell_type": "code",
   "execution_count": 68,
   "metadata": {},
   "outputs": [],
   "source": [
    "from sklearn.model_selection import GridSearchCV"
   ]
  },
  {
   "cell_type": "code",
   "execution_count": 130,
   "metadata": {},
   "outputs": [],
   "source": [
    "param = {\n",
    "    'n_estimators': [200,300],\n",
    "    'max_depth': [6,7],\n",
    "    'learning_rate':[0.025, 0.1],\n",
    "    'booster':['gblinear'],\n",
    "    'subsample':[0.9],\n",
    "    'colsample_bytree':[0.7],\n",
    "    'min_child_weight': [4],\n",
    "    'objective': ['reg:squarederror'],\n",
    "    'scoring': ['neg_mean_squared_error'],\n",
    "    'nthread': [4]\n",
    "}"
   ]
  },
  {
   "cell_type": "code",
   "execution_count": 131,
   "metadata": {},
   "outputs": [],
   "source": [
    "xgb_grid = GridSearchCV(xgbmodel, param_grid = param, cv=5)"
   ]
  },
  {
   "cell_type": "code",
   "execution_count": 132,
   "metadata": {},
   "outputs": [
    {
     "name": "stdout",
     "output_type": "stream",
     "text": [
      "[23:06:22] WARNING: C:/Users/Administrator/workspace/xgboost-win64_release_1.4.0/src/learner.cc:573: \n",
      "Parameters: { \"colsample_bylevel\", \"colsample_bynode\", \"colsample_bytree\", \"gamma\", \"interaction_constraints\", \"max_delta_step\", \"max_depth\", \"min_child_weight\", \"monotone_constraints\", \"num_parallel_tree\", \"scoring\", \"subsample\", \"tree_method\" } might not be used.\n",
      "\n",
      "  This may not be accurate due to some parameters are only used in language bindings but\n",
      "  passed down to XGBoost core.  Or some parameters are not used but slip through this\n",
      "  verification. Please open an issue if you find above cases.\n",
      "\n",
      "\n",
      "[23:06:34] WARNING: C:/Users/Administrator/workspace/xgboost-win64_release_1.4.0/src/learner.cc:573: \n",
      "Parameters: { \"colsample_bylevel\", \"colsample_bynode\", \"colsample_bytree\", \"gamma\", \"interaction_constraints\", \"max_delta_step\", \"max_depth\", \"min_child_weight\", \"monotone_constraints\", \"num_parallel_tree\", \"scoring\", \"subsample\", \"tree_method\" } might not be used.\n",
      "\n",
      "  This may not be accurate due to some parameters are only used in language bindings but\n",
      "  passed down to XGBoost core.  Or some parameters are not used but slip through this\n",
      "  verification. Please open an issue if you find above cases.\n",
      "\n",
      "\n",
      "[23:06:45] WARNING: C:/Users/Administrator/workspace/xgboost-win64_release_1.4.0/src/learner.cc:573: \n",
      "Parameters: { \"colsample_bylevel\", \"colsample_bynode\", \"colsample_bytree\", \"gamma\", \"interaction_constraints\", \"max_delta_step\", \"max_depth\", \"min_child_weight\", \"monotone_constraints\", \"num_parallel_tree\", \"scoring\", \"subsample\", \"tree_method\" } might not be used.\n",
      "\n",
      "  This may not be accurate due to some parameters are only used in language bindings but\n",
      "  passed down to XGBoost core.  Or some parameters are not used but slip through this\n",
      "  verification. Please open an issue if you find above cases.\n",
      "\n",
      "\n",
      "[23:06:57] WARNING: C:/Users/Administrator/workspace/xgboost-win64_release_1.4.0/src/learner.cc:573: \n",
      "Parameters: { \"colsample_bylevel\", \"colsample_bynode\", \"colsample_bytree\", \"gamma\", \"interaction_constraints\", \"max_delta_step\", \"max_depth\", \"min_child_weight\", \"monotone_constraints\", \"num_parallel_tree\", \"scoring\", \"subsample\", \"tree_method\" } might not be used.\n",
      "\n",
      "  This may not be accurate due to some parameters are only used in language bindings but\n",
      "  passed down to XGBoost core.  Or some parameters are not used but slip through this\n",
      "  verification. Please open an issue if you find above cases.\n",
      "\n",
      "\n",
      "[23:07:09] WARNING: C:/Users/Administrator/workspace/xgboost-win64_release_1.4.0/src/learner.cc:573: \n",
      "Parameters: { \"colsample_bylevel\", \"colsample_bynode\", \"colsample_bytree\", \"gamma\", \"interaction_constraints\", \"max_delta_step\", \"max_depth\", \"min_child_weight\", \"monotone_constraints\", \"num_parallel_tree\", \"scoring\", \"subsample\", \"tree_method\" } might not be used.\n",
      "\n",
      "  This may not be accurate due to some parameters are only used in language bindings but\n",
      "  passed down to XGBoost core.  Or some parameters are not used but slip through this\n",
      "  verification. Please open an issue if you find above cases.\n",
      "\n",
      "\n",
      "[23:07:20] WARNING: C:/Users/Administrator/workspace/xgboost-win64_release_1.4.0/src/learner.cc:573: \n",
      "Parameters: { \"colsample_bylevel\", \"colsample_bynode\", \"colsample_bytree\", \"gamma\", \"interaction_constraints\", \"max_delta_step\", \"max_depth\", \"min_child_weight\", \"monotone_constraints\", \"num_parallel_tree\", \"scoring\", \"subsample\", \"tree_method\" } might not be used.\n",
      "\n",
      "  This may not be accurate due to some parameters are only used in language bindings but\n",
      "  passed down to XGBoost core.  Or some parameters are not used but slip through this\n",
      "  verification. Please open an issue if you find above cases.\n",
      "\n",
      "\n",
      "[23:07:36] WARNING: C:/Users/Administrator/workspace/xgboost-win64_release_1.4.0/src/learner.cc:573: \n",
      "Parameters: { \"colsample_bylevel\", \"colsample_bynode\", \"colsample_bytree\", \"gamma\", \"interaction_constraints\", \"max_delta_step\", \"max_depth\", \"min_child_weight\", \"monotone_constraints\", \"num_parallel_tree\", \"scoring\", \"subsample\", \"tree_method\" } might not be used.\n",
      "\n",
      "  This may not be accurate due to some parameters are only used in language bindings but\n",
      "  passed down to XGBoost core.  Or some parameters are not used but slip through this\n",
      "  verification. Please open an issue if you find above cases.\n",
      "\n",
      "\n",
      "[23:07:53] WARNING: C:/Users/Administrator/workspace/xgboost-win64_release_1.4.0/src/learner.cc:573: \n",
      "Parameters: { \"colsample_bylevel\", \"colsample_bynode\", \"colsample_bytree\", \"gamma\", \"interaction_constraints\", \"max_delta_step\", \"max_depth\", \"min_child_weight\", \"monotone_constraints\", \"num_parallel_tree\", \"scoring\", \"subsample\", \"tree_method\" } might not be used.\n",
      "\n",
      "  This may not be accurate due to some parameters are only used in language bindings but\n",
      "  passed down to XGBoost core.  Or some parameters are not used but slip through this\n",
      "  verification. Please open an issue if you find above cases.\n",
      "\n",
      "\n",
      "[23:08:11] WARNING: C:/Users/Administrator/workspace/xgboost-win64_release_1.4.0/src/learner.cc:573: \n",
      "Parameters: { \"colsample_bylevel\", \"colsample_bynode\", \"colsample_bytree\", \"gamma\", \"interaction_constraints\", \"max_delta_step\", \"max_depth\", \"min_child_weight\", \"monotone_constraints\", \"num_parallel_tree\", \"scoring\", \"subsample\", \"tree_method\" } might not be used.\n",
      "\n",
      "  This may not be accurate due to some parameters are only used in language bindings but\n",
      "  passed down to XGBoost core.  Or some parameters are not used but slip through this\n",
      "  verification. Please open an issue if you find above cases.\n",
      "\n",
      "\n",
      "[23:08:29] WARNING: C:/Users/Administrator/workspace/xgboost-win64_release_1.4.0/src/learner.cc:573: \n",
      "Parameters: { \"colsample_bylevel\", \"colsample_bynode\", \"colsample_bytree\", \"gamma\", \"interaction_constraints\", \"max_delta_step\", \"max_depth\", \"min_child_weight\", \"monotone_constraints\", \"num_parallel_tree\", \"scoring\", \"subsample\", \"tree_method\" } might not be used.\n",
      "\n",
      "  This may not be accurate due to some parameters are only used in language bindings but\n",
      "  passed down to XGBoost core.  Or some parameters are not used but slip through this\n",
      "  verification. Please open an issue if you find above cases.\n",
      "\n",
      "\n",
      "[23:08:46] WARNING: C:/Users/Administrator/workspace/xgboost-win64_release_1.4.0/src/learner.cc:573: \n",
      "Parameters: { \"colsample_bylevel\", \"colsample_bynode\", \"colsample_bytree\", \"gamma\", \"interaction_constraints\", \"max_delta_step\", \"max_depth\", \"min_child_weight\", \"monotone_constraints\", \"num_parallel_tree\", \"scoring\", \"subsample\", \"tree_method\" } might not be used.\n",
      "\n",
      "  This may not be accurate due to some parameters are only used in language bindings but\n",
      "  passed down to XGBoost core.  Or some parameters are not used but slip through this\n",
      "  verification. Please open an issue if you find above cases.\n",
      "\n",
      "\n",
      "[23:08:58] WARNING: C:/Users/Administrator/workspace/xgboost-win64_release_1.4.0/src/learner.cc:573: \n",
      "Parameters: { \"colsample_bylevel\", \"colsample_bynode\", \"colsample_bytree\", \"gamma\", \"interaction_constraints\", \"max_delta_step\", \"max_depth\", \"min_child_weight\", \"monotone_constraints\", \"num_parallel_tree\", \"scoring\", \"subsample\", \"tree_method\" } might not be used.\n",
      "\n",
      "  This may not be accurate due to some parameters are only used in language bindings but\n",
      "  passed down to XGBoost core.  Or some parameters are not used but slip through this\n",
      "  verification. Please open an issue if you find above cases.\n",
      "\n",
      "\n",
      "[23:09:11] WARNING: C:/Users/Administrator/workspace/xgboost-win64_release_1.4.0/src/learner.cc:573: \n",
      "Parameters: { \"colsample_bylevel\", \"colsample_bynode\", \"colsample_bytree\", \"gamma\", \"interaction_constraints\", \"max_delta_step\", \"max_depth\", \"min_child_weight\", \"monotone_constraints\", \"num_parallel_tree\", \"scoring\", \"subsample\", \"tree_method\" } might not be used.\n",
      "\n",
      "  This may not be accurate due to some parameters are only used in language bindings but\n",
      "  passed down to XGBoost core.  Or some parameters are not used but slip through this\n",
      "  verification. Please open an issue if you find above cases.\n",
      "\n",
      "\n",
      "[23:09:22] WARNING: C:/Users/Administrator/workspace/xgboost-win64_release_1.4.0/src/learner.cc:573: \n",
      "Parameters: { \"colsample_bylevel\", \"colsample_bynode\", \"colsample_bytree\", \"gamma\", \"interaction_constraints\", \"max_delta_step\", \"max_depth\", \"min_child_weight\", \"monotone_constraints\", \"num_parallel_tree\", \"scoring\", \"subsample\", \"tree_method\" } might not be used.\n",
      "\n",
      "  This may not be accurate due to some parameters are only used in language bindings but\n",
      "  passed down to XGBoost core.  Or some parameters are not used but slip through this\n",
      "  verification. Please open an issue if you find above cases.\n",
      "\n",
      "\n"
     ]
    },
    {
     "name": "stdout",
     "output_type": "stream",
     "text": [
      "[23:09:34] WARNING: C:/Users/Administrator/workspace/xgboost-win64_release_1.4.0/src/learner.cc:573: \n",
      "Parameters: { \"colsample_bylevel\", \"colsample_bynode\", \"colsample_bytree\", \"gamma\", \"interaction_constraints\", \"max_delta_step\", \"max_depth\", \"min_child_weight\", \"monotone_constraints\", \"num_parallel_tree\", \"scoring\", \"subsample\", \"tree_method\" } might not be used.\n",
      "\n",
      "  This may not be accurate due to some parameters are only used in language bindings but\n",
      "  passed down to XGBoost core.  Or some parameters are not used but slip through this\n",
      "  verification. Please open an issue if you find above cases.\n",
      "\n",
      "\n",
      "[23:09:45] WARNING: C:/Users/Administrator/workspace/xgboost-win64_release_1.4.0/src/learner.cc:573: \n",
      "Parameters: { \"colsample_bylevel\", \"colsample_bynode\", \"colsample_bytree\", \"gamma\", \"interaction_constraints\", \"max_delta_step\", \"max_depth\", \"min_child_weight\", \"monotone_constraints\", \"num_parallel_tree\", \"scoring\", \"subsample\", \"tree_method\" } might not be used.\n",
      "\n",
      "  This may not be accurate due to some parameters are only used in language bindings but\n",
      "  passed down to XGBoost core.  Or some parameters are not used but slip through this\n",
      "  verification. Please open an issue if you find above cases.\n",
      "\n",
      "\n",
      "[23:10:01] WARNING: C:/Users/Administrator/workspace/xgboost-win64_release_1.4.0/src/learner.cc:573: \n",
      "Parameters: { \"colsample_bylevel\", \"colsample_bynode\", \"colsample_bytree\", \"gamma\", \"interaction_constraints\", \"max_delta_step\", \"max_depth\", \"min_child_weight\", \"monotone_constraints\", \"num_parallel_tree\", \"scoring\", \"subsample\", \"tree_method\" } might not be used.\n",
      "\n",
      "  This may not be accurate due to some parameters are only used in language bindings but\n",
      "  passed down to XGBoost core.  Or some parameters are not used but slip through this\n",
      "  verification. Please open an issue if you find above cases.\n",
      "\n",
      "\n",
      "[23:10:17] WARNING: C:/Users/Administrator/workspace/xgboost-win64_release_1.4.0/src/learner.cc:573: \n",
      "Parameters: { \"colsample_bylevel\", \"colsample_bynode\", \"colsample_bytree\", \"gamma\", \"interaction_constraints\", \"max_delta_step\", \"max_depth\", \"min_child_weight\", \"monotone_constraints\", \"num_parallel_tree\", \"scoring\", \"subsample\", \"tree_method\" } might not be used.\n",
      "\n",
      "  This may not be accurate due to some parameters are only used in language bindings but\n",
      "  passed down to XGBoost core.  Or some parameters are not used but slip through this\n",
      "  verification. Please open an issue if you find above cases.\n",
      "\n",
      "\n",
      "[23:10:34] WARNING: C:/Users/Administrator/workspace/xgboost-win64_release_1.4.0/src/learner.cc:573: \n",
      "Parameters: { \"colsample_bylevel\", \"colsample_bynode\", \"colsample_bytree\", \"gamma\", \"interaction_constraints\", \"max_delta_step\", \"max_depth\", \"min_child_weight\", \"monotone_constraints\", \"num_parallel_tree\", \"scoring\", \"subsample\", \"tree_method\" } might not be used.\n",
      "\n",
      "  This may not be accurate due to some parameters are only used in language bindings but\n",
      "  passed down to XGBoost core.  Or some parameters are not used but slip through this\n",
      "  verification. Please open an issue if you find above cases.\n",
      "\n",
      "\n",
      "[23:10:51] WARNING: C:/Users/Administrator/workspace/xgboost-win64_release_1.4.0/src/learner.cc:573: \n",
      "Parameters: { \"colsample_bylevel\", \"colsample_bynode\", \"colsample_bytree\", \"gamma\", \"interaction_constraints\", \"max_delta_step\", \"max_depth\", \"min_child_weight\", \"monotone_constraints\", \"num_parallel_tree\", \"scoring\", \"subsample\", \"tree_method\" } might not be used.\n",
      "\n",
      "  This may not be accurate due to some parameters are only used in language bindings but\n",
      "  passed down to XGBoost core.  Or some parameters are not used but slip through this\n",
      "  verification. Please open an issue if you find above cases.\n",
      "\n",
      "\n",
      "[23:11:08] WARNING: C:/Users/Administrator/workspace/xgboost-win64_release_1.4.0/src/learner.cc:573: \n",
      "Parameters: { \"colsample_bylevel\", \"colsample_bynode\", \"colsample_bytree\", \"gamma\", \"interaction_constraints\", \"max_delta_step\", \"max_depth\", \"min_child_weight\", \"monotone_constraints\", \"num_parallel_tree\", \"scoring\", \"subsample\", \"tree_method\" } might not be used.\n",
      "\n",
      "  This may not be accurate due to some parameters are only used in language bindings but\n",
      "  passed down to XGBoost core.  Or some parameters are not used but slip through this\n",
      "  verification. Please open an issue if you find above cases.\n",
      "\n",
      "\n",
      "[23:11:19] WARNING: C:/Users/Administrator/workspace/xgboost-win64_release_1.4.0/src/learner.cc:573: \n",
      "Parameters: { \"colsample_bylevel\", \"colsample_bynode\", \"colsample_bytree\", \"gamma\", \"interaction_constraints\", \"max_delta_step\", \"max_depth\", \"min_child_weight\", \"monotone_constraints\", \"num_parallel_tree\", \"scoring\", \"subsample\", \"tree_method\" } might not be used.\n",
      "\n",
      "  This may not be accurate due to some parameters are only used in language bindings but\n",
      "  passed down to XGBoost core.  Or some parameters are not used but slip through this\n",
      "  verification. Please open an issue if you find above cases.\n",
      "\n",
      "\n",
      "[23:11:30] WARNING: C:/Users/Administrator/workspace/xgboost-win64_release_1.4.0/src/learner.cc:573: \n",
      "Parameters: { \"colsample_bylevel\", \"colsample_bynode\", \"colsample_bytree\", \"gamma\", \"interaction_constraints\", \"max_delta_step\", \"max_depth\", \"min_child_weight\", \"monotone_constraints\", \"num_parallel_tree\", \"scoring\", \"subsample\", \"tree_method\" } might not be used.\n",
      "\n",
      "  This may not be accurate due to some parameters are only used in language bindings but\n",
      "  passed down to XGBoost core.  Or some parameters are not used but slip through this\n",
      "  verification. Please open an issue if you find above cases.\n",
      "\n",
      "\n",
      "[23:11:44] WARNING: C:/Users/Administrator/workspace/xgboost-win64_release_1.4.0/src/learner.cc:573: \n",
      "Parameters: { \"colsample_bylevel\", \"colsample_bynode\", \"colsample_bytree\", \"gamma\", \"interaction_constraints\", \"max_delta_step\", \"max_depth\", \"min_child_weight\", \"monotone_constraints\", \"num_parallel_tree\", \"scoring\", \"subsample\", \"tree_method\" } might not be used.\n",
      "\n",
      "  This may not be accurate due to some parameters are only used in language bindings but\n",
      "  passed down to XGBoost core.  Or some parameters are not used but slip through this\n",
      "  verification. Please open an issue if you find above cases.\n",
      "\n",
      "\n",
      "[23:11:57] WARNING: C:/Users/Administrator/workspace/xgboost-win64_release_1.4.0/src/learner.cc:573: \n",
      "Parameters: { \"colsample_bylevel\", \"colsample_bynode\", \"colsample_bytree\", \"gamma\", \"interaction_constraints\", \"max_delta_step\", \"max_depth\", \"min_child_weight\", \"monotone_constraints\", \"num_parallel_tree\", \"scoring\", \"subsample\", \"tree_method\" } might not be used.\n",
      "\n",
      "  This may not be accurate due to some parameters are only used in language bindings but\n",
      "  passed down to XGBoost core.  Or some parameters are not used but slip through this\n",
      "  verification. Please open an issue if you find above cases.\n",
      "\n",
      "\n",
      "[23:12:11] WARNING: C:/Users/Administrator/workspace/xgboost-win64_release_1.4.0/src/learner.cc:573: \n",
      "Parameters: { \"colsample_bylevel\", \"colsample_bynode\", \"colsample_bytree\", \"gamma\", \"interaction_constraints\", \"max_delta_step\", \"max_depth\", \"min_child_weight\", \"monotone_constraints\", \"num_parallel_tree\", \"scoring\", \"subsample\", \"tree_method\" } might not be used.\n",
      "\n",
      "  This may not be accurate due to some parameters are only used in language bindings but\n",
      "  passed down to XGBoost core.  Or some parameters are not used but slip through this\n",
      "  verification. Please open an issue if you find above cases.\n",
      "\n",
      "\n",
      "[23:12:31] WARNING: C:/Users/Administrator/workspace/xgboost-win64_release_1.4.0/src/learner.cc:573: \n",
      "Parameters: { \"colsample_bylevel\", \"colsample_bynode\", \"colsample_bytree\", \"gamma\", \"interaction_constraints\", \"max_delta_step\", \"max_depth\", \"min_child_weight\", \"monotone_constraints\", \"num_parallel_tree\", \"scoring\", \"subsample\", \"tree_method\" } might not be used.\n",
      "\n",
      "  This may not be accurate due to some parameters are only used in language bindings but\n",
      "  passed down to XGBoost core.  Or some parameters are not used but slip through this\n",
      "  verification. Please open an issue if you find above cases.\n",
      "\n",
      "\n",
      "[23:12:53] WARNING: C:/Users/Administrator/workspace/xgboost-win64_release_1.4.0/src/learner.cc:573: \n",
      "Parameters: { \"colsample_bylevel\", \"colsample_bynode\", \"colsample_bytree\", \"gamma\", \"interaction_constraints\", \"max_delta_step\", \"max_depth\", \"min_child_weight\", \"monotone_constraints\", \"num_parallel_tree\", \"scoring\", \"subsample\", \"tree_method\" } might not be used.\n",
      "\n",
      "  This may not be accurate due to some parameters are only used in language bindings but\n",
      "  passed down to XGBoost core.  Or some parameters are not used but slip through this\n",
      "  verification. Please open an issue if you find above cases.\n",
      "\n",
      "\n"
     ]
    },
    {
     "name": "stdout",
     "output_type": "stream",
     "text": [
      "[23:13:11] WARNING: C:/Users/Administrator/workspace/xgboost-win64_release_1.4.0/src/learner.cc:573: \n",
      "Parameters: { \"colsample_bylevel\", \"colsample_bynode\", \"colsample_bytree\", \"gamma\", \"interaction_constraints\", \"max_delta_step\", \"max_depth\", \"min_child_weight\", \"monotone_constraints\", \"num_parallel_tree\", \"scoring\", \"subsample\", \"tree_method\" } might not be used.\n",
      "\n",
      "  This may not be accurate due to some parameters are only used in language bindings but\n",
      "  passed down to XGBoost core.  Or some parameters are not used but slip through this\n",
      "  verification. Please open an issue if you find above cases.\n",
      "\n",
      "\n",
      "[23:13:29] WARNING: C:/Users/Administrator/workspace/xgboost-win64_release_1.4.0/src/learner.cc:573: \n",
      "Parameters: { \"colsample_bylevel\", \"colsample_bynode\", \"colsample_bytree\", \"gamma\", \"interaction_constraints\", \"max_delta_step\", \"max_depth\", \"min_child_weight\", \"monotone_constraints\", \"num_parallel_tree\", \"scoring\", \"subsample\", \"tree_method\" } might not be used.\n",
      "\n",
      "  This may not be accurate due to some parameters are only used in language bindings but\n",
      "  passed down to XGBoost core.  Or some parameters are not used but slip through this\n",
      "  verification. Please open an issue if you find above cases.\n",
      "\n",
      "\n",
      "[23:13:47] WARNING: C:/Users/Administrator/workspace/xgboost-win64_release_1.4.0/src/learner.cc:573: \n",
      "Parameters: { \"colsample_bylevel\", \"colsample_bynode\", \"colsample_bytree\", \"gamma\", \"interaction_constraints\", \"max_delta_step\", \"max_depth\", \"min_child_weight\", \"monotone_constraints\", \"num_parallel_tree\", \"scoring\", \"subsample\", \"tree_method\" } might not be used.\n",
      "\n",
      "  This may not be accurate due to some parameters are only used in language bindings but\n",
      "  passed down to XGBoost core.  Or some parameters are not used but slip through this\n",
      "  verification. Please open an issue if you find above cases.\n",
      "\n",
      "\n",
      "[23:13:58] WARNING: C:/Users/Administrator/workspace/xgboost-win64_release_1.4.0/src/learner.cc:573: \n",
      "Parameters: { \"colsample_bylevel\", \"colsample_bynode\", \"colsample_bytree\", \"gamma\", \"interaction_constraints\", \"max_delta_step\", \"max_depth\", \"min_child_weight\", \"monotone_constraints\", \"num_parallel_tree\", \"scoring\", \"subsample\", \"tree_method\" } might not be used.\n",
      "\n",
      "  This may not be accurate due to some parameters are only used in language bindings but\n",
      "  passed down to XGBoost core.  Or some parameters are not used but slip through this\n",
      "  verification. Please open an issue if you find above cases.\n",
      "\n",
      "\n",
      "[23:14:10] WARNING: C:/Users/Administrator/workspace/xgboost-win64_release_1.4.0/src/learner.cc:573: \n",
      "Parameters: { \"colsample_bylevel\", \"colsample_bynode\", \"colsample_bytree\", \"gamma\", \"interaction_constraints\", \"max_delta_step\", \"max_depth\", \"min_child_weight\", \"monotone_constraints\", \"num_parallel_tree\", \"scoring\", \"subsample\", \"tree_method\" } might not be used.\n",
      "\n",
      "  This may not be accurate due to some parameters are only used in language bindings but\n",
      "  passed down to XGBoost core.  Or some parameters are not used but slip through this\n",
      "  verification. Please open an issue if you find above cases.\n",
      "\n",
      "\n",
      "[23:14:24] WARNING: C:/Users/Administrator/workspace/xgboost-win64_release_1.4.0/src/learner.cc:573: \n",
      "Parameters: { \"colsample_bylevel\", \"colsample_bynode\", \"colsample_bytree\", \"gamma\", \"interaction_constraints\", \"max_delta_step\", \"max_depth\", \"min_child_weight\", \"monotone_constraints\", \"num_parallel_tree\", \"scoring\", \"subsample\", \"tree_method\" } might not be used.\n",
      "\n",
      "  This may not be accurate due to some parameters are only used in language bindings but\n",
      "  passed down to XGBoost core.  Or some parameters are not used but slip through this\n",
      "  verification. Please open an issue if you find above cases.\n",
      "\n",
      "\n",
      "[23:14:38] WARNING: C:/Users/Administrator/workspace/xgboost-win64_release_1.4.0/src/learner.cc:573: \n",
      "Parameters: { \"colsample_bylevel\", \"colsample_bynode\", \"colsample_bytree\", \"gamma\", \"interaction_constraints\", \"max_delta_step\", \"max_depth\", \"min_child_weight\", \"monotone_constraints\", \"num_parallel_tree\", \"scoring\", \"subsample\", \"tree_method\" } might not be used.\n",
      "\n",
      "  This may not be accurate due to some parameters are only used in language bindings but\n",
      "  passed down to XGBoost core.  Or some parameters are not used but slip through this\n",
      "  verification. Please open an issue if you find above cases.\n",
      "\n",
      "\n",
      "[23:14:52] WARNING: C:/Users/Administrator/workspace/xgboost-win64_release_1.4.0/src/learner.cc:573: \n",
      "Parameters: { \"colsample_bylevel\", \"colsample_bynode\", \"colsample_bytree\", \"gamma\", \"interaction_constraints\", \"max_delta_step\", \"max_depth\", \"min_child_weight\", \"monotone_constraints\", \"num_parallel_tree\", \"scoring\", \"subsample\", \"tree_method\" } might not be used.\n",
      "\n",
      "  This may not be accurate due to some parameters are only used in language bindings but\n",
      "  passed down to XGBoost core.  Or some parameters are not used but slip through this\n",
      "  verification. Please open an issue if you find above cases.\n",
      "\n",
      "\n",
      "[23:15:10] WARNING: C:/Users/Administrator/workspace/xgboost-win64_release_1.4.0/src/learner.cc:573: \n",
      "Parameters: { \"colsample_bylevel\", \"colsample_bynode\", \"colsample_bytree\", \"gamma\", \"interaction_constraints\", \"max_delta_step\", \"max_depth\", \"min_child_weight\", \"monotone_constraints\", \"num_parallel_tree\", \"scoring\", \"subsample\", \"tree_method\" } might not be used.\n",
      "\n",
      "  This may not be accurate due to some parameters are only used in language bindings but\n",
      "  passed down to XGBoost core.  Or some parameters are not used but slip through this\n",
      "  verification. Please open an issue if you find above cases.\n",
      "\n",
      "\n",
      "[23:15:30] WARNING: C:/Users/Administrator/workspace/xgboost-win64_release_1.4.0/src/learner.cc:573: \n",
      "Parameters: { \"colsample_bylevel\", \"colsample_bynode\", \"colsample_bytree\", \"gamma\", \"interaction_constraints\", \"max_delta_step\", \"max_depth\", \"min_child_weight\", \"monotone_constraints\", \"num_parallel_tree\", \"scoring\", \"subsample\", \"tree_method\" } might not be used.\n",
      "\n",
      "  This may not be accurate due to some parameters are only used in language bindings but\n",
      "  passed down to XGBoost core.  Or some parameters are not used but slip through this\n",
      "  verification. Please open an issue if you find above cases.\n",
      "\n",
      "\n",
      "[23:15:50] WARNING: C:/Users/Administrator/workspace/xgboost-win64_release_1.4.0/src/learner.cc:573: \n",
      "Parameters: { \"colsample_bylevel\", \"colsample_bynode\", \"colsample_bytree\", \"gamma\", \"interaction_constraints\", \"max_delta_step\", \"max_depth\", \"min_child_weight\", \"monotone_constraints\", \"num_parallel_tree\", \"scoring\", \"subsample\", \"tree_method\" } might not be used.\n",
      "\n",
      "  This may not be accurate due to some parameters are only used in language bindings but\n",
      "  passed down to XGBoost core.  Or some parameters are not used but slip through this\n",
      "  verification. Please open an issue if you find above cases.\n",
      "\n",
      "\n",
      "[23:16:09] WARNING: C:/Users/Administrator/workspace/xgboost-win64_release_1.4.0/src/learner.cc:573: \n",
      "Parameters: { \"colsample_bylevel\", \"colsample_bynode\", \"colsample_bytree\", \"gamma\", \"interaction_constraints\", \"max_delta_step\", \"max_depth\", \"min_child_weight\", \"monotone_constraints\", \"num_parallel_tree\", \"scoring\", \"subsample\", \"tree_method\" } might not be used.\n",
      "\n",
      "  This may not be accurate due to some parameters are only used in language bindings but\n",
      "  passed down to XGBoost core.  Or some parameters are not used but slip through this\n",
      "  verification. Please open an issue if you find above cases.\n",
      "\n",
      "\n",
      "[23:16:28] WARNING: C:/Users/Administrator/workspace/xgboost-win64_release_1.4.0/src/learner.cc:573: \n",
      "Parameters: { \"colsample_bylevel\", \"colsample_bynode\", \"colsample_bytree\", \"gamma\", \"interaction_constraints\", \"max_delta_step\", \"max_depth\", \"min_child_weight\", \"monotone_constraints\", \"num_parallel_tree\", \"scoring\", \"subsample\", \"tree_method\" } might not be used.\n",
      "\n",
      "  This may not be accurate due to some parameters are only used in language bindings but\n",
      "  passed down to XGBoost core.  Or some parameters are not used but slip through this\n",
      "  verification. Please open an issue if you find above cases.\n",
      "\n",
      "\n",
      "Wall time: 10min 26s\n"
     ]
    },
    {
     "data": {
      "text/plain": [
       "GridSearchCV(cv=5,\n",
       "             estimator=XGBRegressor(base_score=0.5, booster='gbtree',\n",
       "                                    colsample_bylevel=1, colsample_bynode=1,\n",
       "                                    colsample_bytree=1, gamma=0, gpu_id=-1,\n",
       "                                    importance_type='gain',\n",
       "                                    interaction_constraints='',\n",
       "                                    learning_rate=0.300000012, max_delta_step=0,\n",
       "                                    max_depth=4, min_child_weight=1,\n",
       "                                    missing=nan, monotone_constraints='()',\n",
       "                                    n_estimators=100, n_jobs=-1,\n",
       "                                    num_parallel...\n",
       "                                    reg_alpha=0, reg_lambda=1,\n",
       "                                    scale_pos_weight=1, subsample=1,\n",
       "                                    tree_method='exact', validate_parameters=1,\n",
       "                                    verbosity=None),\n",
       "             param_grid={'booster': ['gblinear'], 'colsample_bytree': [0.7],\n",
       "                         'learning_rate': [0.025, 0.1], 'max_depth': [6, 7],\n",
       "                         'min_child_weight': [4], 'n_estimators': [200, 300],\n",
       "                         'nthread': [4], 'objective': ['reg:squarederror'],\n",
       "                         'scoring': ['neg_mean_squared_error'],\n",
       "                         'subsample': [0.9]})"
      ]
     },
     "execution_count": 132,
     "metadata": {},
     "output_type": "execute_result"
    }
   ],
   "source": [
    "%%time\n",
    "xgb_grid.fit(X_train, Y_train)"
   ]
  },
  {
   "cell_type": "code",
   "execution_count": 133,
   "metadata": {},
   "outputs": [
    {
     "name": "stdout",
     "output_type": "stream",
     "text": [
      "Tunned XGBRegressor Parameters: {'booster': 'gblinear', 'colsample_bytree': 0.7, 'learning_rate': 0.1, 'max_depth': 6, 'min_child_weight': 4, 'n_estimators': 300, 'nthread': 4, 'objective': 'reg:squarederror', 'scoring': 'neg_mean_squared_error', 'subsample': 0.9}\n",
      "XGBRegressor Best Score: -0.019451397390842784\n"
     ]
    }
   ],
   "source": [
    "print('Tunned XGBRegressor Parameters: {}'.format(xgb_grid.best_params_))\n",
    "\n",
    "print('XGBRegressor Best Score: {}'.format(xgb_grid.best_score_))"
   ]
  },
  {
   "cell_type": "code",
   "execution_count": 134,
   "metadata": {},
   "outputs": [
    {
     "data": {
      "text/plain": [
       "1.0180995326454712"
      ]
     },
     "execution_count": 134,
     "metadata": {},
     "output_type": "execute_result"
    }
   ],
   "source": [
    "val_pred = xgb_grid.predict(X_val)\n",
    "np.sqrt(mean_squared_error(Y_val, val_pred))"
   ]
  },
  {
   "cell_type": "code",
   "execution_count": 135,
   "metadata": {},
   "outputs": [],
   "source": [
    "_pred = xgb_grid.predict(test_df)"
   ]
  },
  {
   "cell_type": "code",
   "execution_count": 136,
   "metadata": {},
   "outputs": [
    {
     "data": {
      "text/plain": [
       "array([9.687967, 9.719025, 9.930334, ..., 9.770969, 9.926594, 9.502216],\n",
       "      dtype=float32)"
      ]
     },
     "execution_count": 136,
     "metadata": {},
     "output_type": "execute_result"
    }
   ],
   "source": [
    "_pred"
   ]
  },
  {
   "cell_type": "markdown",
   "metadata": {},
   "source": [
    "### Submission"
   ]
  },
  {
   "cell_type": "code",
   "execution_count": 137,
   "metadata": {},
   "outputs": [],
   "source": [
    "id = test_input['id']\n",
    "submission = pd.DataFrame({'id': id, 'Annual_Premium': _pred})\n",
    "submission.to_csv('kwope_submission.csv',index=False)"
   ]
  },
  {
   "cell_type": "code",
   "execution_count": 138,
   "metadata": {},
   "outputs": [
    {
     "data": {
      "text/html": [
       "<div>\n",
       "<style scoped>\n",
       "    .dataframe tbody tr th:only-of-type {\n",
       "        vertical-align: middle;\n",
       "    }\n",
       "\n",
       "    .dataframe tbody tr th {\n",
       "        vertical-align: top;\n",
       "    }\n",
       "\n",
       "    .dataframe thead th {\n",
       "        text-align: right;\n",
       "    }\n",
       "</style>\n",
       "<table border=\"1\" class=\"dataframe\">\n",
       "  <thead>\n",
       "    <tr style=\"text-align: right;\">\n",
       "      <th></th>\n",
       "      <th>id</th>\n",
       "      <th>Annual_Premium</th>\n",
       "    </tr>\n",
       "  </thead>\n",
       "  <tbody>\n",
       "    <tr>\n",
       "      <th>0</th>\n",
       "      <td>16222</td>\n",
       "      <td>9.687967</td>\n",
       "    </tr>\n",
       "    <tr>\n",
       "      <th>1</th>\n",
       "      <td>342481</td>\n",
       "      <td>9.719025</td>\n",
       "    </tr>\n",
       "    <tr>\n",
       "      <th>2</th>\n",
       "      <td>20916</td>\n",
       "      <td>9.930334</td>\n",
       "    </tr>\n",
       "    <tr>\n",
       "      <th>3</th>\n",
       "      <td>38704</td>\n",
       "      <td>9.970335</td>\n",
       "    </tr>\n",
       "    <tr>\n",
       "      <th>4</th>\n",
       "      <td>363809</td>\n",
       "      <td>9.636335</td>\n",
       "    </tr>\n",
       "  </tbody>\n",
       "</table>\n",
       "</div>"
      ],
      "text/plain": [
       "       id  Annual_Premium\n",
       "0   16222        9.687967\n",
       "1  342481        9.719025\n",
       "2   20916        9.930334\n",
       "3   38704        9.970335\n",
       "4  363809        9.636335"
      ]
     },
     "execution_count": 138,
     "metadata": {},
     "output_type": "execute_result"
    }
   ],
   "source": [
    "submission.head()"
   ]
  },
  {
   "cell_type": "code",
   "execution_count": 81,
   "metadata": {},
   "outputs": [
    {
     "data": {
      "text/plain": [
       "(76222, 2)"
      ]
     },
     "execution_count": 81,
     "metadata": {},
     "output_type": "execute_result"
    }
   ],
   "source": [
    "submission.shape"
   ]
  },
  {
   "cell_type": "markdown",
   "metadata": {},
   "source": [
    "## Tunning Hyperparameter For LightGBM"
   ]
  },
  {
   "cell_type": "code",
   "execution_count": 158,
   "metadata": {},
   "outputs": [],
   "source": [
    "param = {\n",
    "    'learning_rate': [0.025, 0.1],\n",
    "    'bagging_fraction': [0.1],\n",
    "    'num_iterations': [300, 380],\n",
    "    'colsample_bytree': [0.7],\n",
    "    'num_leaves': [300],\n",
    "    'max_depth': [7,8],\n",
    "    'objective': ['regression'],\n",
    "    'metric':['RMSE']\n",
    "}    "
   ]
  },
  {
   "cell_type": "code",
   "execution_count": 159,
   "metadata": {},
   "outputs": [],
   "source": [
    "lgbm_grid = GridSearchCV(lgbmodel, n_jobs=-1, param_grid = param, cv=5)"
   ]
  },
  {
   "cell_type": "code",
   "execution_count": 160,
   "metadata": {},
   "outputs": [
    {
     "name": "stdout",
     "output_type": "stream",
     "text": [
      "[LightGBM] [Warning] bagging_fraction is set=0.1, subsample=0.9 will be ignored. Current value: bagging_fraction=0.1\n",
      "Wall time: 1h 14min 10s\n"
     ]
    },
    {
     "data": {
      "text/plain": [
       "GridSearchCV(cv=5,\n",
       "             estimator=LGBMRegressor(bagging_fraction=0.1, max_depth=8,\n",
       "                                     n_estimators=200, num_leaves=200,\n",
       "                                     random_state=42),\n",
       "             n_jobs=-1,\n",
       "             param_grid={'bagging_fraction': [0.1],\n",
       "                         'colsample_bytree': [0.7, 0.9],\n",
       "                         'learning_rate': [0.025, 0.1], 'max_depth': [7, 8],\n",
       "                         'metric': ['RMSE'], 'num_iterations': [300, 380],\n",
       "                         'num_leaves': [300], 'objective': ['regression'],\n",
       "                         'subsample': [0.9, 1]})"
      ]
     },
     "execution_count": 160,
     "metadata": {},
     "output_type": "execute_result"
    }
   ],
   "source": [
    "%%time\n",
    "lgbm_grid.fit(X_train, Y_train)"
   ]
  },
  {
   "cell_type": "code",
   "execution_count": 165,
   "metadata": {},
   "outputs": [
    {
     "name": "stdout",
     "output_type": "stream",
     "text": [
      "Tunned LGBMRegressor Parameters: {'bagging_fraction': 0.1, 'colsample_bytree': 0.7, 'learning_rate': 0.025, 'max_depth': 7, 'metric': 'RMSE', 'num_iterations': 380, 'num_leaves': 300, 'objective': 'regression', 'subsample': 0.9}\n",
      "LGBMRegressor Best Score: 0.32060855303005675\n"
     ]
    }
   ],
   "source": [
    "print('Tunned LGBMRegressor Parameters: {}'.format(lgbm_grid.best_params_))\n",
    "\n",
    "print('LGBMRegressor Best Score: {}'.format(lgbm_grid.best_score_))"
   ]
  },
  {
   "cell_type": "code",
   "execution_count": 162,
   "metadata": {},
   "outputs": [
    {
     "data": {
      "text/plain": [
       "0.8274899275883509"
      ]
     },
     "execution_count": 162,
     "metadata": {},
     "output_type": "execute_result"
    }
   ],
   "source": [
    "val_pred = lgbm_grid.predict(X_val)\n",
    "np.sqrt(mean_squared_error(Y_val, val_pred))"
   ]
  },
  {
   "cell_type": "code",
   "execution_count": 154,
   "metadata": {},
   "outputs": [],
   "source": [
    "_pred2 = lgbm_grid.predict(test_df)"
   ]
  },
  {
   "cell_type": "code",
   "execution_count": 155,
   "metadata": {},
   "outputs": [
    {
     "data": {
      "text/plain": [
       "array([ 9.43424597,  9.87487405,  9.99491003, ..., 10.14372135,\n",
       "       10.0092722 ,  9.91890271])"
      ]
     },
     "execution_count": 155,
     "metadata": {},
     "output_type": "execute_result"
    }
   ],
   "source": [
    "_pred2"
   ]
  },
  {
   "cell_type": "code",
   "execution_count": 156,
   "metadata": {},
   "outputs": [],
   "source": [
    "id = test_input['id']\n",
    "submission2 = pd.DataFrame({'id': id, 'Annual_Premium': _pred2})\n",
    "submission2.to_csv('kwope_submission2.csv',index=False)"
   ]
  },
  {
   "cell_type": "code",
   "execution_count": 157,
   "metadata": {},
   "outputs": [
    {
     "data": {
      "text/html": [
       "<div>\n",
       "<style scoped>\n",
       "    .dataframe tbody tr th:only-of-type {\n",
       "        vertical-align: middle;\n",
       "    }\n",
       "\n",
       "    .dataframe tbody tr th {\n",
       "        vertical-align: top;\n",
       "    }\n",
       "\n",
       "    .dataframe thead th {\n",
       "        text-align: right;\n",
       "    }\n",
       "</style>\n",
       "<table border=\"1\" class=\"dataframe\">\n",
       "  <thead>\n",
       "    <tr style=\"text-align: right;\">\n",
       "      <th></th>\n",
       "      <th>id</th>\n",
       "      <th>Annual_Premium</th>\n",
       "    </tr>\n",
       "  </thead>\n",
       "  <tbody>\n",
       "    <tr>\n",
       "      <th>0</th>\n",
       "      <td>16222</td>\n",
       "      <td>9.434246</td>\n",
       "    </tr>\n",
       "    <tr>\n",
       "      <th>1</th>\n",
       "      <td>342481</td>\n",
       "      <td>9.874874</td>\n",
       "    </tr>\n",
       "    <tr>\n",
       "      <th>2</th>\n",
       "      <td>20916</td>\n",
       "      <td>9.994910</td>\n",
       "    </tr>\n",
       "    <tr>\n",
       "      <th>3</th>\n",
       "      <td>38704</td>\n",
       "      <td>9.543676</td>\n",
       "    </tr>\n",
       "    <tr>\n",
       "      <th>4</th>\n",
       "      <td>363809</td>\n",
       "      <td>9.945041</td>\n",
       "    </tr>\n",
       "  </tbody>\n",
       "</table>\n",
       "</div>"
      ],
      "text/plain": [
       "       id  Annual_Premium\n",
       "0   16222        9.434246\n",
       "1  342481        9.874874\n",
       "2   20916        9.994910\n",
       "3   38704        9.543676\n",
       "4  363809        9.945041"
      ]
     },
     "execution_count": 157,
     "metadata": {},
     "output_type": "execute_result"
    }
   ],
   "source": [
    "submission2.head()"
   ]
  },
  {
   "cell_type": "markdown",
   "metadata": {},
   "source": [
    "#### Taking The Log Inverse Of The Predicion\n",
    "\n",
    "To get back the actual predicted value, we'll have to convert the prediction from log to its actual value. We can do this by calculating the log inverse of `_pred`"
   ]
  },
  {
   "cell_type": "code",
   "execution_count": 82,
   "metadata": {},
   "outputs": [],
   "source": [
    "converted_pred = [np.exp(x) for x in _pred]"
   ]
  },
  {
   "cell_type": "code",
   "execution_count": 164,
   "metadata": {},
   "outputs": [
    {
     "data": {
      "text/html": [
       "<div>\n",
       "<style scoped>\n",
       "    .dataframe tbody tr th:only-of-type {\n",
       "        vertical-align: middle;\n",
       "    }\n",
       "\n",
       "    .dataframe tbody tr th {\n",
       "        vertical-align: top;\n",
       "    }\n",
       "\n",
       "    .dataframe thead th {\n",
       "        text-align: right;\n",
       "    }\n",
       "</style>\n",
       "<table border=\"1\" class=\"dataframe\">\n",
       "  <thead>\n",
       "    <tr style=\"text-align: right;\">\n",
       "      <th></th>\n",
       "      <th>id</th>\n",
       "      <th>Annual_Premium</th>\n",
       "    </tr>\n",
       "  </thead>\n",
       "  <tbody>\n",
       "    <tr>\n",
       "      <th>0</th>\n",
       "      <td>16222</td>\n",
       "      <td>5931.379883</td>\n",
       "    </tr>\n",
       "    <tr>\n",
       "      <th>1</th>\n",
       "      <td>342481</td>\n",
       "      <td>5909.940430</td>\n",
       "    </tr>\n",
       "    <tr>\n",
       "      <th>2</th>\n",
       "      <td>20916</td>\n",
       "      <td>11011.462891</td>\n",
       "    </tr>\n",
       "    <tr>\n",
       "      <th>3</th>\n",
       "      <td>38704</td>\n",
       "      <td>17379.476562</td>\n",
       "    </tr>\n",
       "    <tr>\n",
       "      <th>4</th>\n",
       "      <td>363809</td>\n",
       "      <td>3102.127930</td>\n",
       "    </tr>\n",
       "    <tr>\n",
       "      <th>...</th>\n",
       "      <td>...</td>\n",
       "      <td>...</td>\n",
       "    </tr>\n",
       "    <tr>\n",
       "      <th>76217</th>\n",
       "      <td>151615</td>\n",
       "      <td>17611.160156</td>\n",
       "    </tr>\n",
       "    <tr>\n",
       "      <th>76218</th>\n",
       "      <td>170171</td>\n",
       "      <td>36384.382812</td>\n",
       "    </tr>\n",
       "    <tr>\n",
       "      <th>76219</th>\n",
       "      <td>303222</td>\n",
       "      <td>5836.371094</td>\n",
       "    </tr>\n",
       "    <tr>\n",
       "      <th>76220</th>\n",
       "      <td>333830</td>\n",
       "      <td>8513.917969</td>\n",
       "    </tr>\n",
       "    <tr>\n",
       "      <th>76221</th>\n",
       "      <td>245084</td>\n",
       "      <td>1960.805176</td>\n",
       "    </tr>\n",
       "  </tbody>\n",
       "</table>\n",
       "<p>76222 rows × 2 columns</p>\n",
       "</div>"
      ],
      "text/plain": [
       "           id  Annual_Premium\n",
       "0       16222     5931.379883\n",
       "1      342481     5909.940430\n",
       "2       20916    11011.462891\n",
       "3       38704    17379.476562\n",
       "4      363809     3102.127930\n",
       "...       ...             ...\n",
       "76217  151615    17611.160156\n",
       "76218  170171    36384.382812\n",
       "76219  303222     5836.371094\n",
       "76220  333830     8513.917969\n",
       "76221  245084     1960.805176\n",
       "\n",
       "[76222 rows x 2 columns]"
      ]
     },
     "execution_count": 164,
     "metadata": {},
     "output_type": "execute_result"
    }
   ],
   "source": [
    "pd.DataFrame({'id': test_input['id'], 'Annual_Premium': converted_pred})"
   ]
  },
  {
   "cell_type": "code",
   "execution_count": null,
   "metadata": {},
   "outputs": [],
   "source": []
  }
 ],
 "metadata": {
  "kernelspec": {
   "display_name": "Python 3 (ipykernel)",
   "language": "python",
   "name": "python3"
  },
  "language_info": {
   "codemirror_mode": {
    "name": "ipython",
    "version": 3
   },
   "file_extension": ".py",
   "mimetype": "text/x-python",
   "name": "python",
   "nbconvert_exporter": "python",
   "pygments_lexer": "ipython3",
   "version": "3.9.7"
  }
 },
 "nbformat": 4,
 "nbformat_minor": 2
}
